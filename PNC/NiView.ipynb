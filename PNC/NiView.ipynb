{
 "cells": [
  {
   "cell_type": "code",
   "execution_count": 1,
   "metadata": {},
   "outputs": [],
   "source": [
    "import os, glob\n",
    "import numpy as np\n",
    "import matplotlib.pyplot as plt\n",
    "%matplotlib inline\n",
    "\n",
    "import nibabel as nib"
   ]
  },
  {
   "cell_type": "code",
   "execution_count": 2,
   "metadata": {},
   "outputs": [],
   "source": [
    "import nilearn\n",
    "from nilearn import plotting"
   ]
  },
  {
   "cell_type": "code",
   "execution_count": 3,
   "metadata": {},
   "outputs": [],
   "source": [
    "def niview(image, idx=None, coords=None):\n",
    "    if isinstance(image, str):\n",
    "        image = nib.load(image)\n",
    "    elif not isinstance(image, nib.nifti1.Nifti1Image):\n",
    "        raise ValueError('Not image or path to image')\n",
    "    \n",
    "    if isinstance(idx, int):\n",
    "        image = nilearn.image.index_img(image, idx)\n",
    "    \n",
    "    data = image.get_data()\n",
    "    print(data.shape, (data.min(), data.max(), data.mean()))\n",
    "    \n",
    "    display(plotting.view_img(image, bg_img=False, cut_coords=coords))"
   ]
  },
  {
   "cell_type": "markdown",
   "metadata": {},
   "source": [
    "---"
   ]
  }
 ],
 "metadata": {
  "kernelspec": {
   "display_name": "Python 3",
   "language": "python",
   "name": "python3"
  },
  "language_info": {
   "codemirror_mode": {
    "name": "ipython",
    "version": 3
   },
   "file_extension": ".py",
   "mimetype": "text/x-python",
   "name": "python",
   "nbconvert_exporter": "python",
   "pygments_lexer": "ipython3",
   "version": "3.8.3"
  }
 },
 "nbformat": 4,
 "nbformat_minor": 4
}
