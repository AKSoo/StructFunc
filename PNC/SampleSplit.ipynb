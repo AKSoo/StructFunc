{
 "cells": [
  {
   "cell_type": "code",
   "execution_count": 1,
   "metadata": {},
   "outputs": [],
   "source": [
    "import numpy as np\n",
    "import pandas as pd\n",
    "import matplotlib.pyplot as plt"
   ]
  },
  {
   "cell_type": "code",
   "execution_count": 2,
   "metadata": {},
   "outputs": [],
   "source": [
    "mri = pd.read_csv('phenotype/Parameters_n1601.csv')\n",
    "age = pd.read_csv('phenotype/Interview_Dates_Update.csv')\n",
    "phenotype = pd.read_csv('phenotype/Subject_Phenotypes.csv',\n",
    "                        usecols=['SUBJID', 'Race', 'Sex'])\n",
    "\n",
    "# drop proband+collateral interview duplicates\n",
    "phenotype.drop_duplicates('SUBJID', inplace=True)"
   ]
  },
  {
   "cell_type": "code",
   "execution_count": 3,
   "metadata": {},
   "outputs": [
    {
     "data": {
      "text/plain": [
       "1395"
      ]
     },
     "execution_count": 3,
     "metadata": {},
     "output_type": "execute_result"
    }
   ],
   "source": [
    "subjids = mri.loc[mri['Sequence.Name'] == 'FMRI_BOLD_rest'].SUBJID\n",
    "\n",
    "# not in dbGaP for whatever reason\n",
    "subjids = subjids.drop(subjids[(subjids == 600097734231) | (subjids == 600745271704)].index)\n",
    "\n",
    "len(subjids)"
   ]
  },
  {
   "cell_type": "code",
   "execution_count": 4,
   "metadata": {},
   "outputs": [],
   "source": [
    "subs = pd.merge(age.loc[age.SUBJID.isin(subjids)], phenotype, on='SUBJID')"
   ]
  },
  {
   "cell_type": "code",
   "execution_count": 5,
   "metadata": {
    "scrolled": true
   },
   "outputs": [],
   "source": [
    "from sklearn.model_selection import train_test_split\n",
    "train, test = train_test_split(subs, test_size=1/3, random_state=44)"
   ]
  },
  {
   "cell_type": "markdown",
   "metadata": {},
   "source": [
    "# Demographics"
   ]
  },
  {
   "cell_type": "code",
   "execution_count": 6,
   "metadata": {
    "scrolled": true
   },
   "outputs": [
    {
     "data": {
      "image/png": "[encoded data removed]",
      "text/plain": [
       "<Figure size 432x288 with 1 Axes>"
      ]
     },
     "metadata": {
      "needs_background": "light"
     },
     "output_type": "display_data"
    }
   ],
   "source": [
    "fig, ax = plt.subplots()\n",
    "\n",
    "(train['ageAtScan'] / 12).plot.kde(ax=ax)\n",
    "(test['ageAtScan'] / 12).plot.kde(ax=ax)\n",
    "\n",
    "ax.set_xlim(5, 25)\n",
    "ax.set_ylim(bottom=0)\n",
    "\n",
    "plt.show()"
   ]
  },
  {
   "cell_type": "code",
   "execution_count": 7,
   "metadata": {},
   "outputs": [
    {
     "data": {
      "text/plain": [
       "(930, 0.5365591397849462)"
      ]
     },
     "execution_count": 7,
     "metadata": {},
     "output_type": "execute_result"
    }
   ],
   "source": [
    "len(train), sum(train['Sex'] == 'F') / len(train)"
   ]
  },
  {
   "cell_type": "code",
   "execution_count": 8,
   "metadata": {
    "scrolled": true
   },
   "outputs": [
    {
     "data": {
      "text/plain": [
       "(465, 0.5290322580645161)"
      ]
     },
     "execution_count": 8,
     "metadata": {},
     "output_type": "execute_result"
    }
   ],
   "source": [
    "len(test), sum(test['Sex'] == 'F') / len(test)"
   ]
  },
  {
   "cell_type": "code",
   "execution_count": 9,
   "metadata": {},
   "outputs": [
    {
     "data": {
      "text/plain": [
       "(0.5075268817204301, 0.4838709677419355)"
      ]
     },
     "execution_count": 9,
     "metadata": {},
     "output_type": "execute_result"
    }
   ],
   "source": [
    "(sum(train['Race'].str.contains('EA', na=False)) / len(train),\n",
    " sum(train['Race'].str.contains('AA', na=False)) / len(train))"
   ]
  },
  {
   "cell_type": "code",
   "execution_count": 10,
   "metadata": {},
   "outputs": [
    {
     "data": {
      "text/plain": [
       "(0.524731182795699, 0.4666666666666667)"
      ]
     },
     "execution_count": 10,
     "metadata": {},
     "output_type": "execute_result"
    }
   ],
   "source": [
    "(sum(test['Race'].str.contains('EA', na=False)) / len(test),\n",
    " sum(test['Race'].str.contains('AA', na=False)) / len(test))"
   ]
  },
  {
   "cell_type": "markdown",
   "metadata": {},
   "source": [
    "# Export"
   ]
  },
  {
   "cell_type": "code",
   "execution_count": 11,
   "metadata": {},
   "outputs": [],
   "source": [
    "np.save('output/train_subjids.npy', train.SUBJID)\n",
    "np.save('output/test_subjids.npy', test.SUBJID)"
   ]
  }
 ],
 "metadata": {
  "kernelspec": {
   "display_name": "Python 3",
   "language": "python",
   "name": "python3"
  },
  "language_info": {
   "codemirror_mode": {
    "name": "ipython",
    "version": 3
   },
   "file_extension": ".py",
   "mimetype": "text/x-python",
   "name": "python",
   "nbconvert_exporter": "python",
   "pygments_lexer": "ipython3",
   "version": "3.7.3"
  }
 },
 "nbformat": 4,
 "nbformat_minor": 2
}
