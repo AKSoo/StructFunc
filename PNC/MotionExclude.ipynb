{
 "cells": [
  {
   "cell_type": "code",
   "execution_count": 27,
   "metadata": {},
   "outputs": [],
   "source": [
    "import os, glob\n",
    "import numpy as np\n",
    "import pandas as pd\n",
    "\n",
    "import matplotlib.pyplot as plt\n",
    "%matplotlib inline"
   ]
  },
  {
   "cell_type": "code",
   "execution_count": 2,
   "metadata": {},
   "outputs": [],
   "source": [
    "fmriprep_dir = os.path.join('Nifti', 'derivatives', 'fmriprep')"
   ]
  },
  {
   "cell_type": "code",
   "execution_count": 3,
   "metadata": {},
   "outputs": [],
   "source": [
    "confound_path = os.path.join(fmriprep_dir, 'sub-{sub}', 'func',\n",
    "                             'sub-{sub}_task-rest_desc-confounds_regressors.tsv')"
   ]
  },
  {
   "cell_type": "code",
   "execution_count": 4,
   "metadata": {},
   "outputs": [],
   "source": [
    "files = glob.glob(confound_path.format(sub='*'))"
   ]
  },
  {
   "cell_type": "code",
   "execution_count": 5,
   "metadata": {},
   "outputs": [],
   "source": [
    "exclude = []\n",
    "include = []\n",
    "\n",
    "for f in files:\n",
    "    sub = os.path.basename(f).split('_')[0][4:]\n",
    "    FD = pd.read_csv(f, sep='\\t', usecols=['framewise_displacement'], squeeze=True)\n",
    "    \n",
    "    if FD.mean() > 0.2 or (FD > 0.25).sum() > 20:\n",
    "        exclude.append(sub)\n",
    "    else:\n",
    "        include.append(sub)"
   ]
  },
  {
   "cell_type": "markdown",
   "metadata": {},
   "source": [
    "# Cohort Split"
   ]
  },
  {
   "cell_type": "code",
   "execution_count": 74,
   "metadata": {},
   "outputs": [],
   "source": [
    "cohort = pd.DataFrame()"
   ]
  },
  {
   "cell_type": "code",
   "execution_count": 75,
   "metadata": {},
   "outputs": [],
   "source": [
    "cohort['id0'] = 'sub-' + pd.Series(include)"
   ]
  },
  {
   "cell_type": "code",
   "execution_count": 76,
   "metadata": {},
   "outputs": [],
   "source": [
    "cohort['img'] = cohort['id0'].apply(\n",
    "    lambda id0: os.path.join(id0, 'func', id0 + '_task-rest_space-PNC_desc-preproc_bold.nii.gz')\n",
    ")"
   ]
  },
  {
   "cell_type": "code",
   "execution_count": 86,
   "metadata": {
    "scrolled": true
   },
   "outputs": [],
   "source": [
    "split = int(np.ceil(len(cohort) / 4))\n",
    "\n",
    "for i in range(4):\n",
    "    cohort[i*split : (i+1)*split].to_csv('work/cohort_{}.csv'.format(i), index=False)"
   ]
  },
  {
   "cell_type": "markdown",
   "metadata": {},
   "source": [
    "# Demographic"
   ]
  },
  {
   "cell_type": "code",
   "execution_count": 59,
   "metadata": {},
   "outputs": [],
   "source": [
    "age = pd.read_csv('phenotype/Interview_Dates_Update.csv')\n",
    "phenotype = pd.read_csv('phenotype/Subject_Phenotypes.csv',\n",
    "                        usecols=['SUBJID', 'Race', 'Sex'])\n",
    "\n",
    "# drop proband+collateral interview duplicates\n",
    "phenotype.drop_duplicates('SUBJID', inplace=True)"
   ]
  },
  {
   "cell_type": "code",
   "execution_count": 60,
   "metadata": {},
   "outputs": [
    {
     "data": {
      "image/png": "[encoded data removed]",
      "text/plain": [
       "<Figure size 432x288 with 1 Axes>"
      ]
     },
     "metadata": {
      "needs_background": "light"
     },
     "output_type": "display_data"
    }
   ],
   "source": [
    "fig, ax = plt.subplots()\n",
    "\n",
    "(age.loc[age.SUBJID.isin(pd.Series(include).astype(np.int64))]['ageAtScan'] / 12).plot.kde(ax=ax)\n",
    "\n",
    "ax.set_xlim(5, 25)\n",
    "ax.set_ylim(bottom=0)\n",
    "plt.show()"
   ]
  },
  {
   "cell_type": "code",
   "execution_count": 61,
   "metadata": {},
   "outputs": [],
   "source": [
    "p = phenotype.loc[phenotype.SUBJID.isin(pd.Series(include).astype(np.int64))]"
   ]
  },
  {
   "cell_type": "code",
   "execution_count": 62,
   "metadata": {},
   "outputs": [
    {
     "data": {
      "text/plain": [
       "(551, 0.5553539019963702)"
      ]
     },
     "execution_count": 62,
     "metadata": {},
     "output_type": "execute_result"
    }
   ],
   "source": [
    "len(p), sum(p['Sex'] == 'F') / len(p)"
   ]
  },
  {
   "cell_type": "code",
   "execution_count": 63,
   "metadata": {},
   "outputs": [
    {
     "data": {
      "text/plain": [
       "(0.49183303085299457, 0.5045372050816697)"
      ]
     },
     "execution_count": 63,
     "metadata": {},
     "output_type": "execute_result"
    }
   ],
   "source": [
    "(sum(p['Race'].str.contains('EA', na=False)) / len(p),\n",
    " sum(p['Race'].str.contains('AA', na=False)) / len(p))"
   ]
  },
  {
   "cell_type": "code",
   "execution_count": 64,
   "metadata": {},
   "outputs": [
    {
     "data": {
      "image/png": "[encoded data removed]",
      "text/plain": [
       "<Figure size 432x288 with 1 Axes>"
      ]
     },
     "metadata": {
      "needs_background": "light"
     },
     "output_type": "display_data"
    }
   ],
   "source": [
    "fig, ax = plt.subplots()\n",
    "\n",
    "(age.loc[age.SUBJID.isin(pd.Series(exclude).astype(np.int64))]['ageAtScan'] / 12).plot.kde(ax=ax)\n",
    "\n",
    "ax.set_xlim(5, 25)\n",
    "ax.set_ylim(bottom=0)\n",
    "plt.show()"
   ]
  },
  {
   "cell_type": "code",
   "execution_count": 65,
   "metadata": {},
   "outputs": [],
   "source": [
    "p = phenotype.loc[phenotype.SUBJID.isin(pd.Series(exclude).astype(np.int64))]"
   ]
  },
  {
   "cell_type": "code",
   "execution_count": 66,
   "metadata": {},
   "outputs": [
    {
     "data": {
      "text/plain": [
       "(283, 0.4911660777385159)"
      ]
     },
     "execution_count": 66,
     "metadata": {},
     "output_type": "execute_result"
    }
   ],
   "source": [
    "len(p), sum(p['Sex'] == 'F') / len(p)"
   ]
  },
  {
   "cell_type": "code",
   "execution_count": 67,
   "metadata": {},
   "outputs": [
    {
     "data": {
      "text/plain": [
       "(0.5406360424028268, 0.43109540636042404)"
      ]
     },
     "execution_count": 67,
     "metadata": {},
     "output_type": "execute_result"
    }
   ],
   "source": [
    "(sum(p['Race'].str.contains('EA', na=False)) / len(p),\n",
    " sum(p['Race'].str.contains('AA', na=False)) / len(p))"
   ]
  }
 ],
 "metadata": {
  "kernelspec": {
   "display_name": "Python 3",
   "language": "python",
   "name": "python3"
  },
  "language_info": {
   "codemirror_mode": {
    "name": "ipython",
    "version": 3
   },
   "file_extension": ".py",
   "mimetype": "text/x-python",
   "name": "python",
   "nbconvert_exporter": "python",
   "pygments_lexer": "ipython3",
   "version": "3.7.3"
  }
 },
 "nbformat": 4,
 "nbformat_minor": 2
}
