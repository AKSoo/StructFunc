{
 "cells": [
  {
   "cell_type": "code",
   "execution_count": 1,
   "id": "56683cfd-5da6-4850-ac6a-baae51c6f988",
   "metadata": {},
   "outputs": [
    {
     "name": "stdout",
     "output_type": "stream",
     "text": [
      "/home/kimsin98/Adolescent/StructFunc\n"
     ]
    }
   ],
   "source": [
    "%cd .."
   ]
  },
  {
   "cell_type": "code",
   "execution_count": 2,
   "id": "4cbce905-26c2-4c9e-b607-507c4617f04f",
   "metadata": {},
   "outputs": [],
   "source": [
    "import warnings\n",
    "warnings.simplefilter(action='ignore', category=FutureWarning)\n",
    "\n",
    "import numpy as np\n",
    "import pandas as pd\n",
    "idx = pd.IndexSlice\n",
    "SEED = 69\n",
    "\n",
    "import matplotlib.pyplot as plt\n",
    "import seaborn as sns\n",
    "sns.set_theme(style='ticks')\n",
    "colors = sns.color_palette()"
   ]
  },
  {
   "cell_type": "code",
   "execution_count": 3,
   "id": "84913b80-f197-432a-8520-321f2a0c0ef2",
   "metadata": {},
   "outputs": [],
   "source": [
    "import joblib\n",
    "from scipy import stats\n",
    "from utils import abcd\n",
    "\n",
    "import multiverse_sCCA"
   ]
  },
  {
   "cell_type": "markdown",
   "id": "9fc90428-eabb-4ae6-97b6-83b2fb36d57b",
   "metadata": {},
   "source": [
    "# Multiverse Summary"
   ]
  },
  {
   "cell_type": "code",
   "execution_count": 4,
   "id": "e9be8012-6f7c-4f9b-98f4-3ac53baf28a4",
   "metadata": {},
   "outputs": [],
   "source": [
    "summary = pd.read_csv(multiverse_sCCA.out_path / 'summary.csv', index_col=0)\n",
    "test = pd.read_csv(multiverse_sCCA.out_path / 'test.csv', index_col=0)"
   ]
  },
  {
   "cell_type": "code",
   "execution_count": 5,
   "id": "23860b67-334b-4b98-bbf8-2da6ada3ef97",
   "metadata": {},
   "outputs": [
    {
     "data": {
      "text/html": [
       "<div>\n",
       "<style scoped>\n",
       "    .dataframe tbody tr th:only-of-type {\n",
       "        vertical-align: middle;\n",
       "    }\n",
       "\n",
       "    .dataframe tbody tr th {\n",
       "        vertical-align: top;\n",
       "    }\n",
       "\n",
       "    .dataframe thead th {\n",
       "        text-align: right;\n",
       "    }\n",
       "</style>\n",
       "<table border=\"1\" class=\"dataframe\">\n",
       "  <thead>\n",
       "    <tr style=\"text-align: right;\">\n",
       "      <th></th>\n",
       "      <th>SC</th>\n",
       "      <th>FC</th>\n",
       "      <th>FCSC</th>\n",
       "      <th>SC_test</th>\n",
       "      <th>p_SC</th>\n",
       "    </tr>\n",
       "  </thead>\n",
       "  <tbody>\n",
       "    <tr>\n",
       "      <th>full-r-dev-famd-noout</th>\n",
       "      <td>0.213125</td>\n",
       "      <td>0.644793</td>\n",
       "      <td>0.621385</td>\n",
       "      <td>0.190832</td>\n",
       "      <td>1.00</td>\n",
       "    </tr>\n",
       "    <tr>\n",
       "      <th>full-r-dev-fa-all</th>\n",
       "      <td>0.131392</td>\n",
       "      <td>0.717416</td>\n",
       "      <td>0.717416</td>\n",
       "      <td>0.168315</td>\n",
       "      <td>0.99</td>\n",
       "    </tr>\n",
       "    <tr>\n",
       "      <th>full--dev-fa-all</th>\n",
       "      <td>0.131179</td>\n",
       "      <td>0.695816</td>\n",
       "      <td>0.695816</td>\n",
       "      <td>0.167222</td>\n",
       "      <td>1.00</td>\n",
       "    </tr>\n",
       "    <tr>\n",
       "      <th>full--dev-famd-noout</th>\n",
       "      <td>0.192345</td>\n",
       "      <td>0.644411</td>\n",
       "      <td>0.626300</td>\n",
       "      <td>0.152638</td>\n",
       "      <td>1.00</td>\n",
       "    </tr>\n",
       "    <tr>\n",
       "      <th>full-m-dev-famd-noout</th>\n",
       "      <td>0.144313</td>\n",
       "      <td>0.629797</td>\n",
       "      <td>0.623402</td>\n",
       "      <td>0.152148</td>\n",
       "      <td>1.00</td>\n",
       "    </tr>\n",
       "    <tr>\n",
       "      <th>...</th>\n",
       "      <td>...</td>\n",
       "      <td>...</td>\n",
       "      <td>...</td>\n",
       "      <td>...</td>\n",
       "      <td>...</td>\n",
       "    </tr>\n",
       "    <tr>\n",
       "      <th>full-m-devsoft-famd-noout</th>\n",
       "      <td>0.133647</td>\n",
       "      <td>0.641915</td>\n",
       "      <td>0.642229</td>\n",
       "      <td>0.036502</td>\n",
       "      <td>1.00</td>\n",
       "    </tr>\n",
       "    <tr>\n",
       "      <th>base--dev-famd-all</th>\n",
       "      <td>0.091474</td>\n",
       "      <td>0.695816</td>\n",
       "      <td>0.695816</td>\n",
       "      <td>0.035009</td>\n",
       "      <td>1.00</td>\n",
       "    </tr>\n",
       "    <tr>\n",
       "      <th>base-m-dev-famd-all</th>\n",
       "      <td>0.091476</td>\n",
       "      <td>0.695816</td>\n",
       "      <td>0.695816</td>\n",
       "      <td>0.034938</td>\n",
       "      <td>1.00</td>\n",
       "    </tr>\n",
       "    <tr>\n",
       "      <th>full--devsoft-famd-all</th>\n",
       "      <td>0.078980</td>\n",
       "      <td>0.679098</td>\n",
       "      <td>0.679098</td>\n",
       "      <td>0.027602</td>\n",
       "      <td>1.00</td>\n",
       "    </tr>\n",
       "    <tr>\n",
       "      <th>full-mr-devsoft-fa-noout</th>\n",
       "      <td>0.108678</td>\n",
       "      <td>0.622018</td>\n",
       "      <td>0.622357</td>\n",
       "      <td>0.022237</td>\n",
       "      <td>1.00</td>\n",
       "    </tr>\n",
       "  </tbody>\n",
       "</table>\n",
       "<p>64 rows × 5 columns</p>\n",
       "</div>"
      ],
      "text/plain": [
       "                                 SC        FC      FCSC   SC_test  p_SC\n",
       "full-r-dev-famd-noout      0.213125  0.644793  0.621385  0.190832  1.00\n",
       "full-r-dev-fa-all          0.131392  0.717416  0.717416  0.168315  0.99\n",
       "full--dev-fa-all           0.131179  0.695816  0.695816  0.167222  1.00\n",
       "full--dev-famd-noout       0.192345  0.644411  0.626300  0.152638  1.00\n",
       "full-m-dev-famd-noout      0.144313  0.629797  0.623402  0.152148  1.00\n",
       "...                             ...       ...       ...       ...   ...\n",
       "full-m-devsoft-famd-noout  0.133647  0.641915  0.642229  0.036502  1.00\n",
       "base--dev-famd-all         0.091474  0.695816  0.695816  0.035009  1.00\n",
       "base-m-dev-famd-all        0.091476  0.695816  0.695816  0.034938  1.00\n",
       "full--devsoft-famd-all     0.078980  0.679098  0.679098  0.027602  1.00\n",
       "full-mr-devsoft-fa-noout   0.108678  0.622018  0.622357  0.022237  1.00\n",
       "\n",
       "[64 rows x 5 columns]"
      ]
     },
     "execution_count": 5,
     "metadata": {},
     "output_type": "execute_result"
    }
   ],
   "source": [
    "summary.join(test).sort_values('SC_test', ascending=False)"
   ]
  },
  {
   "cell_type": "code",
   "execution_count": 6,
   "id": "ac5916e5-e00a-449c-a3b5-b6a3a3acb24a",
   "metadata": {},
   "outputs": [],
   "source": [
    "series = test['SC_test'].copy()\n",
    "index = pd.MultiIndex.from_tuples(series.index.str.split('-', expand=True),\n",
    "                                  names=['shell', 'covar', 'scan', 'scon', 'out'])\n",
    "series.index = index"
   ]
  },
  {
   "cell_type": "code",
   "execution_count": 7,
   "id": "1941894f-daba-4218-996f-3f0a738f8a3a",
   "metadata": {},
   "outputs": [],
   "source": [
    "covar_order = {'':0, 'r':1, 'm':2, 'mr':3}\n",
    "def covar_key(index):\n",
    "    return pd.Index([covar_order[i] for i in index],\n",
    "                    name=index.name)\n",
    "\n",
    "SC_test_2d = (series.unstack(['scan', 'covar'])\n",
    "              .sort_index(axis=1, level='covar', key=covar_key)\n",
    "              .sort_index(axis=1, level='scan', sort_remaining=False)\n",
    "              .rename(columns={'':'-', 'm':'M', 'mr':'M, R', 'r':'R', 'devsoft':'dev, soft'},\n",
    "                      index={'fa': 'FA', 'famd':'FA, MD'}))"
   ]
  },
  {
   "cell_type": "code",
   "execution_count": 8,
   "id": "47882b15-33c8-4519-a7a9-5ff040bfe16a",
   "metadata": {},
   "outputs": [
    {
     "data": {
      "text/html": [
       "<style type=\"text/css\">\n",
       "#T_97514_ .index_name {\n",
       "  font-style: italic;\n",
       "  color: black;\n",
       "  background-color: darkgrey;\n",
       "}\n",
       "#T_97514_ th:not(.index_name) {\n",
       "  text-align: center;\n",
       "  color: black;\n",
       "  background-color: white;\n",
       "}\n",
       "#T_97514_ th.row_heading {\n",
       "  border-top: 1px solid black;\n",
       "}\n",
       "#T_97514_ th.col_heading {\n",
       "  border-left: 1px solid black;\n",
       "}\n",
       "#T_97514_ th.blank.col0 {\n",
       "  border-left: 1px solid black;\n",
       "}\n",
       "#T_97514_ th.blank.col1 {\n",
       "  border-left: 1px solid black;\n",
       "}\n",
       "#T_97514_ th.blank.col2 {\n",
       "  border-left: 1px solid black;\n",
       "}\n",
       "#T_97514_ th.blank.col3 {\n",
       "  border-left: 1px solid black;\n",
       "}\n",
       "#T_97514_ th.blank.col4 {\n",
       "  border-left: 1px solid black;\n",
       "}\n",
       "#T_97514_ th.blank.col5 {\n",
       "  border-left: 1px solid black;\n",
       "}\n",
       "#T_97514_ th.blank.col6 {\n",
       "  border-left: 1px solid black;\n",
       "}\n",
       "#T_97514_ th.blank.col7 {\n",
       "  border-left: 1px solid black;\n",
       "}\n",
       "#T_97514_row0_col0, #T_97514_row0_col4, #T_97514_row3_col3, #T_97514_row7_col5 {\n",
       "  width: 4em;\n",
       "  text-align: center;\n",
       "  background-color: #fee4bf;\n",
       "  color: #000000;\n",
       "}\n",
       "#T_97514_row0_col1, #T_97514_row3_col1, #T_97514_row5_col0 {\n",
       "  width: 4em;\n",
       "  text-align: center;\n",
       "  background-color: #fee6c4;\n",
       "  color: #000000;\n",
       "}\n",
       "#T_97514_row0_col2, #T_97514_row1_col3, #T_97514_row1_col5 {\n",
       "  width: 4em;\n",
       "  text-align: center;\n",
       "  background-color: #feebd0;\n",
       "  color: #000000;\n",
       "}\n",
       "#T_97514_row0_col3, #T_97514_row6_col5 {\n",
       "  width: 4em;\n",
       "  text-align: center;\n",
       "  background-color: #fee8c9;\n",
       "  color: #000000;\n",
       "}\n",
       "#T_97514_row0_col5, #T_97514_row3_col2 {\n",
       "  width: 4em;\n",
       "  text-align: center;\n",
       "  background-color: #fee7c7;\n",
       "  color: #000000;\n",
       "}\n",
       "#T_97514_row0_col6, #T_97514_row0_col7, #T_97514_row2_col5, #T_97514_row5_col6 {\n",
       "  width: 4em;\n",
       "  text-align: center;\n",
       "  background-color: #feecd2;\n",
       "  color: #000000;\n",
       "}\n",
       "#T_97514_row1_col0, #T_97514_row2_col3, #T_97514_row2_col6, #T_97514_row5_col4 {\n",
       "  width: 4em;\n",
       "  text-align: center;\n",
       "  background-color: #feedd3;\n",
       "  color: #000000;\n",
       "}\n",
       "#T_97514_row1_col1, #T_97514_row5_col5 {\n",
       "  width: 4em;\n",
       "  text-align: center;\n",
       "  background-color: #feeed5;\n",
       "  color: #000000;\n",
       "}\n",
       "#T_97514_row1_col2, #T_97514_row2_col1 {\n",
       "  width: 4em;\n",
       "  text-align: center;\n",
       "  background-color: #feeacc;\n",
       "  color: #000000;\n",
       "}\n",
       "#T_97514_row1_col4, #T_97514_row5_col2 {\n",
       "  width: 4em;\n",
       "  text-align: center;\n",
       "  background-color: #fee0b8;\n",
       "  color: #000000;\n",
       "}\n",
       "#T_97514_row1_col6, #T_97514_row5_col1 {\n",
       "  width: 4em;\n",
       "  text-align: center;\n",
       "  background-color: #fedfb5;\n",
       "  color: #000000;\n",
       "}\n",
       "#T_97514_row1_col7 {\n",
       "  width: 4em;\n",
       "  text-align: center;\n",
       "  background-color: #fddeb3;\n",
       "  color: #000000;\n",
       "}\n",
       "#T_97514_row2_col0, #T_97514_row2_col2 {\n",
       "  width: 4em;\n",
       "  text-align: center;\n",
       "  background-color: #feefd9;\n",
       "  color: #000000;\n",
       "}\n",
       "#T_97514_row2_col4 {\n",
       "  width: 4em;\n",
       "  text-align: center;\n",
       "  background-color: #feebcf;\n",
       "  color: #000000;\n",
       "}\n",
       "#T_97514_row2_col7, #T_97514_row4_col5 {\n",
       "  width: 4em;\n",
       "  text-align: center;\n",
       "  background-color: #fddbac;\n",
       "  color: #000000;\n",
       "}\n",
       "#T_97514_row3_col0 {\n",
       "  width: 4em;\n",
       "  text-align: center;\n",
       "  background-color: #feeace;\n",
       "  color: #000000;\n",
       "}\n",
       "#T_97514_row3_col4 {\n",
       "  width: 4em;\n",
       "  text-align: center;\n",
       "  background-color: #fee1b9;\n",
       "  color: #000000;\n",
       "}\n",
       "#T_97514_row3_col5, #T_97514_row7_col4 {\n",
       "  width: 4em;\n",
       "  text-align: center;\n",
       "  background-color: #fee2bc;\n",
       "  color: #000000;\n",
       "}\n",
       "#T_97514_row3_col6, #T_97514_row4_col6, #T_97514_row6_col6 {\n",
       "  width: 4em;\n",
       "  text-align: center;\n",
       "  background-color: #fee4c0;\n",
       "  color: #000000;\n",
       "}\n",
       "#T_97514_row3_col7 {\n",
       "  width: 4em;\n",
       "  text-align: center;\n",
       "  background-color: #fdd9a8;\n",
       "  color: #000000;\n",
       "}\n",
       "#T_97514_row4_col0 {\n",
       "  width: 4em;\n",
       "  text-align: center;\n",
       "  background-color: #fdc38d;\n",
       "  color: #000000;\n",
       "}\n",
       "#T_97514_row4_col1 {\n",
       "  width: 4em;\n",
       "  text-align: center;\n",
       "  background-color: #fdc38c;\n",
       "  color: #000000;\n",
       "}\n",
       "#T_97514_row4_col2, #T_97514_row4_col3 {\n",
       "  width: 4em;\n",
       "  text-align: center;\n",
       "  background-color: #fdd19b;\n",
       "  color: #000000;\n",
       "}\n",
       "#T_97514_row4_col4 {\n",
       "  width: 4em;\n",
       "  text-align: center;\n",
       "  background-color: #fee7c5;\n",
       "  color: #000000;\n",
       "}\n",
       "#T_97514_row4_col7, #T_97514_row5_col3 {\n",
       "  width: 4em;\n",
       "  text-align: center;\n",
       "  background-color: #fdddb0;\n",
       "  color: #000000;\n",
       "}\n",
       "#T_97514_row5_col7 {\n",
       "  width: 4em;\n",
       "  text-align: center;\n",
       "  background-color: #fff2e0;\n",
       "  color: #000000;\n",
       "}\n",
       "#T_97514_row6_col0 {\n",
       "  width: 4em;\n",
       "  text-align: center;\n",
       "  background-color: #fdce97;\n",
       "  color: #000000;\n",
       "}\n",
       "#T_97514_row6_col1 {\n",
       "  width: 4em;\n",
       "  text-align: center;\n",
       "  background-color: #fdce98;\n",
       "  color: #000000;\n",
       "}\n",
       "#T_97514_row6_col2 {\n",
       "  width: 4em;\n",
       "  text-align: center;\n",
       "  background-color: #fdd39d;\n",
       "  color: #000000;\n",
       "}\n",
       "#T_97514_row6_col3 {\n",
       "  width: 4em;\n",
       "  text-align: center;\n",
       "  background-color: #fdcc96;\n",
       "  color: #000000;\n",
       "}\n",
       "#T_97514_row6_col4 {\n",
       "  width: 4em;\n",
       "  text-align: center;\n",
       "  background-color: #fff0dc;\n",
       "  color: #000000;\n",
       "}\n",
       "#T_97514_row6_col7 {\n",
       "  width: 4em;\n",
       "  text-align: center;\n",
       "  background-color: #fee3bd;\n",
       "  color: #000000;\n",
       "}\n",
       "#T_97514_row7_col0 {\n",
       "  width: 4em;\n",
       "  text-align: center;\n",
       "  background-color: #fdc992;\n",
       "  color: #000000;\n",
       "}\n",
       "#T_97514_row7_col1 {\n",
       "  width: 4em;\n",
       "  text-align: center;\n",
       "  background-color: #fdb982;\n",
       "  color: #000000;\n",
       "}\n",
       "#T_97514_row7_col2 {\n",
       "  width: 4em;\n",
       "  text-align: center;\n",
       "  background-color: #fdca93;\n",
       "  color: #000000;\n",
       "}\n",
       "#T_97514_row7_col3 {\n",
       "  width: 4em;\n",
       "  text-align: center;\n",
       "  background-color: #fdd49f;\n",
       "  color: #000000;\n",
       "}\n",
       "#T_97514_row7_col6 {\n",
       "  width: 4em;\n",
       "  text-align: center;\n",
       "  background-color: #feefd8;\n",
       "  color: #000000;\n",
       "}\n",
       "#T_97514_row7_col7 {\n",
       "  width: 4em;\n",
       "  text-align: center;\n",
       "  background-color: #fee8c8;\n",
       "  color: #000000;\n",
       "}\n",
       "</style>\n",
       "<table id=\"T_97514_\">\n",
       "  <thead>\n",
       "    <tr>\n",
       "      <th class=\"blank\" >&nbsp;</th>\n",
       "      <th class=\"blank\" >&nbsp;</th>\n",
       "      <th class=\"index_name level0\" >scan</th>\n",
       "      <th class=\"col_heading level0 col0\" colspan=\"4\">dev</th>\n",
       "      <th class=\"col_heading level0 col4\" colspan=\"4\">dev, soft</th>\n",
       "    </tr>\n",
       "    <tr>\n",
       "      <th class=\"blank\" >&nbsp;</th>\n",
       "      <th class=\"blank\" >&nbsp;</th>\n",
       "      <th class=\"index_name level1\" >covar</th>\n",
       "      <th class=\"col_heading level1 col0\" >-</th>\n",
       "      <th class=\"col_heading level1 col1\" >R</th>\n",
       "      <th class=\"col_heading level1 col2\" >M</th>\n",
       "      <th class=\"col_heading level1 col3\" >M, R</th>\n",
       "      <th class=\"col_heading level1 col4\" >-</th>\n",
       "      <th class=\"col_heading level1 col5\" >R</th>\n",
       "      <th class=\"col_heading level1 col6\" >M</th>\n",
       "      <th class=\"col_heading level1 col7\" >M, R</th>\n",
       "    </tr>\n",
       "    <tr>\n",
       "      <th class=\"index_name level0\" >shell</th>\n",
       "      <th class=\"index_name level1\" >scon</th>\n",
       "      <th class=\"index_name level2\" >out</th>\n",
       "      <th class=\"blank col0\" >&nbsp;</th>\n",
       "      <th class=\"blank col1\" >&nbsp;</th>\n",
       "      <th class=\"blank col2\" >&nbsp;</th>\n",
       "      <th class=\"blank col3\" >&nbsp;</th>\n",
       "      <th class=\"blank col4\" >&nbsp;</th>\n",
       "      <th class=\"blank col5\" >&nbsp;</th>\n",
       "      <th class=\"blank col6\" >&nbsp;</th>\n",
       "      <th class=\"blank col7\" >&nbsp;</th>\n",
       "    </tr>\n",
       "  </thead>\n",
       "  <tbody>\n",
       "    <tr>\n",
       "      <th id=\"T_97514_level0_row0\" class=\"row_heading level0 row0\" rowspan=\"4\">base</th>\n",
       "      <th id=\"T_97514_level1_row0\" class=\"row_heading level1 row0\" rowspan=\"2\">FA</th>\n",
       "      <th id=\"T_97514_level2_row0\" class=\"row_heading level2 row0\" >all</th>\n",
       "      <td id=\"T_97514_row0_col0\" class=\"data row0 col0\" >0.077</td>\n",
       "      <td id=\"T_97514_row0_col1\" class=\"data row0 col1\" >0.070</td>\n",
       "      <td id=\"T_97514_row0_col2\" class=\"data row0 col2\" >0.050</td>\n",
       "      <td id=\"T_97514_row0_col3\" class=\"data row0 col3\" >0.062</td>\n",
       "      <td id=\"T_97514_row0_col4\" class=\"data row0 col4\" >0.078</td>\n",
       "      <td id=\"T_97514_row0_col5\" class=\"data row0 col5\" >0.066</td>\n",
       "      <td id=\"T_97514_row0_col6\" class=\"data row0 col6\" >0.046</td>\n",
       "      <td id=\"T_97514_row0_col7\" class=\"data row0 col7\" >0.045</td>\n",
       "    </tr>\n",
       "    <tr>\n",
       "      <th id=\"T_97514_level2_row1\" class=\"row_heading level2 row1\" >noout</th>\n",
       "      <td id=\"T_97514_row1_col0\" class=\"data row1 col0\" >0.043</td>\n",
       "      <td id=\"T_97514_row1_col1\" class=\"data row1 col1\" >0.040</td>\n",
       "      <td id=\"T_97514_row1_col2\" class=\"data row1 col2\" >0.055</td>\n",
       "      <td id=\"T_97514_row1_col3\" class=\"data row1 col3\" >0.050</td>\n",
       "      <td id=\"T_97514_row1_col4\" class=\"data row1 col4\" >0.087</td>\n",
       "      <td id=\"T_97514_row1_col5\" class=\"data row1 col5\" >0.050</td>\n",
       "      <td id=\"T_97514_row1_col6\" class=\"data row1 col6\" >0.091</td>\n",
       "      <td id=\"T_97514_row1_col7\" class=\"data row1 col7\" >0.095</td>\n",
       "    </tr>\n",
       "    <tr>\n",
       "      <th id=\"T_97514_level1_row2\" class=\"row_heading level1 row2\" rowspan=\"2\">FA, MD</th>\n",
       "      <th id=\"T_97514_level2_row2\" class=\"row_heading level2 row2\" >all</th>\n",
       "      <td id=\"T_97514_row2_col0\" class=\"data row2 col0\" >0.035</td>\n",
       "      <td id=\"T_97514_row2_col1\" class=\"data row2 col1\" >0.057</td>\n",
       "      <td id=\"T_97514_row2_col2\" class=\"data row2 col2\" >0.035</td>\n",
       "      <td id=\"T_97514_row2_col3\" class=\"data row2 col3\" >0.043</td>\n",
       "      <td id=\"T_97514_row2_col4\" class=\"data row2 col4\" >0.052</td>\n",
       "      <td id=\"T_97514_row2_col5\" class=\"data row2 col5\" >0.046</td>\n",
       "      <td id=\"T_97514_row2_col6\" class=\"data row2 col6\" >0.043</td>\n",
       "      <td id=\"T_97514_row2_col7\" class=\"data row2 col7\" >0.105</td>\n",
       "    </tr>\n",
       "    <tr>\n",
       "      <th id=\"T_97514_level2_row3\" class=\"row_heading level2 row3\" >noout</th>\n",
       "      <td id=\"T_97514_row3_col0\" class=\"data row3 col0\" >0.053</td>\n",
       "      <td id=\"T_97514_row3_col1\" class=\"data row3 col1\" >0.068</td>\n",
       "      <td id=\"T_97514_row3_col2\" class=\"data row3 col2\" >0.065</td>\n",
       "      <td id=\"T_97514_row3_col3\" class=\"data row3 col3\" >0.077</td>\n",
       "      <td id=\"T_97514_row3_col4\" class=\"data row3 col4\" >0.085</td>\n",
       "      <td id=\"T_97514_row3_col5\" class=\"data row3 col5\" >0.080</td>\n",
       "      <td id=\"T_97514_row3_col6\" class=\"data row3 col6\" >0.075</td>\n",
       "      <td id=\"T_97514_row3_col7\" class=\"data row3 col7\" >0.110</td>\n",
       "    </tr>\n",
       "    <tr>\n",
       "      <th id=\"T_97514_level0_row4\" class=\"row_heading level0 row4\" rowspan=\"4\">full</th>\n",
       "      <th id=\"T_97514_level1_row4\" class=\"row_heading level1 row4\" rowspan=\"2\">FA</th>\n",
       "      <th id=\"T_97514_level2_row4\" class=\"row_heading level2 row4\" >all</th>\n",
       "      <td id=\"T_97514_row4_col0\" class=\"data row4 col0\" >0.167</td>\n",
       "      <td id=\"T_97514_row4_col1\" class=\"data row4 col1\" >0.168</td>\n",
       "      <td id=\"T_97514_row4_col2\" class=\"data row4 col2\" >0.133</td>\n",
       "      <td id=\"T_97514_row4_col3\" class=\"data row4 col3\" >0.132</td>\n",
       "      <td id=\"T_97514_row4_col4\" class=\"data row4 col4\" >0.068</td>\n",
       "      <td id=\"T_97514_row4_col5\" class=\"data row4 col5\" >0.104</td>\n",
       "      <td id=\"T_97514_row4_col6\" class=\"data row4 col6\" >0.075</td>\n",
       "      <td id=\"T_97514_row4_col7\" class=\"data row4 col7\" >0.099</td>\n",
       "    </tr>\n",
       "    <tr>\n",
       "      <th id=\"T_97514_level2_row5\" class=\"row_heading level2 row5\" >noout</th>\n",
       "      <td id=\"T_97514_row5_col0\" class=\"data row5 col0\" >0.069</td>\n",
       "      <td id=\"T_97514_row5_col1\" class=\"data row5 col1\" >0.090</td>\n",
       "      <td id=\"T_97514_row5_col2\" class=\"data row5 col2\" >0.087</td>\n",
       "      <td id=\"T_97514_row5_col3\" class=\"data row5 col3\" >0.099</td>\n",
       "      <td id=\"T_97514_row5_col4\" class=\"data row5 col4\" >0.043</td>\n",
       "      <td id=\"T_97514_row5_col5\" class=\"data row5 col5\" >0.039</td>\n",
       "      <td id=\"T_97514_row5_col6\" class=\"data row5 col6\" >0.046</td>\n",
       "      <td id=\"T_97514_row5_col7\" class=\"data row5 col7\" >0.022</td>\n",
       "    </tr>\n",
       "    <tr>\n",
       "      <th id=\"T_97514_level1_row6\" class=\"row_heading level1 row6\" rowspan=\"2\">FA, MD</th>\n",
       "      <th id=\"T_97514_level2_row6\" class=\"row_heading level2 row6\" >all</th>\n",
       "      <td id=\"T_97514_row6_col0\" class=\"data row6 col0\" >0.141</td>\n",
       "      <td id=\"T_97514_row6_col1\" class=\"data row6 col1\" >0.139</td>\n",
       "      <td id=\"T_97514_row6_col2\" class=\"data row6 col2\" >0.127</td>\n",
       "      <td id=\"T_97514_row6_col3\" class=\"data row6 col3\" >0.145</td>\n",
       "      <td id=\"T_97514_row6_col4\" class=\"data row6 col4\" >0.028</td>\n",
       "      <td id=\"T_97514_row6_col5\" class=\"data row6 col5\" >0.061</td>\n",
       "      <td id=\"T_97514_row6_col6\" class=\"data row6 col6\" >0.076</td>\n",
       "      <td id=\"T_97514_row6_col7\" class=\"data row6 col7\" >0.078</td>\n",
       "    </tr>\n",
       "    <tr>\n",
       "      <th id=\"T_97514_level2_row7\" class=\"row_heading level2 row7\" >noout</th>\n",
       "      <td id=\"T_97514_row7_col0\" class=\"data row7 col0\" >0.153</td>\n",
       "      <td id=\"T_97514_row7_col1\" class=\"data row7 col1\" >0.191</td>\n",
       "      <td id=\"T_97514_row7_col2\" class=\"data row7 col2\" >0.152</td>\n",
       "      <td id=\"T_97514_row7_col3\" class=\"data row7 col3\" >0.124</td>\n",
       "      <td id=\"T_97514_row7_col4\" class=\"data row7 col4\" >0.081</td>\n",
       "      <td id=\"T_97514_row7_col5\" class=\"data row7 col5\" >0.077</td>\n",
       "      <td id=\"T_97514_row7_col6\" class=\"data row7 col6\" >0.037</td>\n",
       "      <td id=\"T_97514_row7_col7\" class=\"data row7 col7\" >0.064</td>\n",
       "    </tr>\n",
       "  </tbody>\n",
       "</table>\n"
      ],
      "text/plain": [
       "<pandas.io.formats.style.Styler at 0x7f86493f7790>"
      ]
     },
     "execution_count": 8,
     "metadata": {},
     "output_type": "execute_result"
    }
   ],
   "source": [
    "styles = []\n",
    "styles.append({\n",
    "    'selector': '.index_name',\n",
    "    'props': 'font-style: italic; color: black; background-color: darkgrey;'\n",
    "})\n",
    "styles.append({\n",
    "    'selector': 'th:not(.index_name)',\n",
    "    'props': 'text-align: center; color: black; background-color: white;'\n",
    "})\n",
    "styles.append({\n",
    "    'selector': 'th.row_heading',\n",
    "    'props': 'border-top: 1px solid black;'\n",
    "})\n",
    "styles.append({\n",
    "    'selector': 'th.col_heading',\n",
    "    'props': 'border-left: 1px solid black;'\n",
    "})\n",
    "for c in range(len(SC_test_2d.columns)):\n",
    "    styles.append({\n",
    "        'selector': f'th.blank.col{c}',\n",
    "        'props': 'border-left: 1px solid black;'\n",
    "    })\n",
    "\n",
    "(SC_test_2d.style.format(precision=3).set_table_styles(styles)\n",
    " .set_properties(**{'width':'4em', 'text-align':'center'})\n",
    " .background_gradient(cmap='OrRd', vmin=0, vmax=0.5))"
   ]
  },
  {
   "cell_type": "markdown",
   "id": "8d2e3d7d-9fd7-42c8-9d66-c21d8887ed75",
   "metadata": {},
   "source": [
    "# Weights\n",
    "\n",
    "* full shell\n",
    "* harmonize scanner device only\n",
    "* SC motion not confound"
   ]
  },
  {
   "cell_type": "code",
   "execution_count": 9,
   "id": "7b7bd83c-6c06-4631-b5d8-fe2ab9fabf83",
   "metadata": {},
   "outputs": [],
   "source": [
    "fcon, _ = abcd.load_fcon()\n",
    "sconfull, _ = abcd.load_scon(full=True, metrics=['fa', 'md'])\n",
    "\n",
    "scon_tracts = abcd.get_scon_descriptions()"
   ]
  },
  {
   "cell_type": "markdown",
   "id": "0454a0f9-3e49-4c9e-90c6-4f619a104ec4",
   "metadata": {},
   "source": [
    "## FA, MD"
   ]
  },
  {
   "cell_type": "code",
   "execution_count": 10,
   "id": "d8419281-063b-4326-8286-53575e5cfd0b",
   "metadata": {},
   "outputs": [],
   "source": [
    "scca_SC = joblib.load(multiverse_sCCA.out_path / 'full-r-dev-famd-noout' / 'scca_SC.joblib.gz')\n",
    "\n",
    "SC_weights = pd.Series(scca_SC.x_weights_[:, 0], index=sconfull.columns)\n",
    "dFC_weights = pd.Series(scca_SC.y_weights_[:, 0], index=fcon.columns)"
   ]
  },
  {
   "cell_type": "code",
   "execution_count": 11,
   "id": "ddcadb92-5f02-4b36-9b02-fb6f41cd3c41",
   "metadata": {},
   "outputs": [
    {
     "data": {
      "text/plain": [
       "dmri_dtifullfa_fiberat_atrlh       -0.403356\n",
       "dmri_dtifullfa_fiberat_unclh       -0.400079\n",
       "dmri_dtifullmd_fiberat_fxlh        -0.361196\n",
       "dmri_dtifullfa_fiberat_fxcutrh     -0.339231\n",
       "dmri_dtifullmd_fiberat_fxrh        -0.312921\n",
       "dmri_dtifullfa_fiberat_allfcclh    -0.264166\n",
       "dmri_dtifullfa_fiberat_atrrh       -0.233021\n",
       "dmri_dtifullfa_fiberat_fxrh        -0.230692\n",
       "dmri_dtifullfa_fiberat_allfiblh    -0.219494\n",
       "dmri_dtifullmd_fiberat_fxcutlh     -0.160152\n",
       "dmri_dtifullfa_fiberat_ifolh       -0.150858\n",
       "dmri_dtifullmd_fiberat_fxcutrh     -0.148193\n",
       "dmri_dtifullfa_fiberat_allfibers   -0.137615\n",
       "dmri_dtifullmd_fiberat_fmaj        -0.087420\n",
       "dmri_dtifullfa_fiberat_ilflh       -0.073031\n",
       "dmri_dtifullfa_fiberat_allfccrh    -0.056073\n",
       "dmri_dtifullfa_fiberat_allfibrh    -0.047262\n",
       "dmri_dtifullfa_fiberat_cgclh       -0.019538\n",
       "dmri_dtifullmd_fiberat_cc          -0.014357\n",
       "dmri_dtifullfa_fiberat_fmin        -0.007406\n",
       "dtype: float64"
      ]
     },
     "execution_count": 11,
     "metadata": {},
     "output_type": "execute_result"
    }
   ],
   "source": [
    "SC_weights.loc[~np.isclose(SC_weights, 0)].sort_values(ascending=False, key=np.abs)"
   ]
  },
  {
   "cell_type": "code",
   "execution_count": 12,
   "id": "6191ae9a-7fcd-48a3-b77c-6aea4e31c8a9",
   "metadata": {},
   "outputs": [
    {
     "data": {
      "text/plain": [
       "rsfmri_c_ngd_dt_ngd_dt            0.505117\n",
       "rsfmri_c_ngd_fo_ngd_fo            0.383744\n",
       "rsfmri_c_ngd_dt_ngd_cgc          -0.328813\n",
       "rsfmri_c_ngd_rspltp_ngd_cgc      -0.289789\n",
       "rsfmri_c_ngd_smh_ngd_ad          -0.287009\n",
       "rsfmri_c_ngd_dla_ngd_dt          -0.284684\n",
       "rsfmri_c_ngd_ad_ngd_ad           -0.254717\n",
       "rsfmri_c_ngd_sa_ngd_rspltp       -0.241679\n",
       "rsfmri_c_ngd_fo_ngd_cgc          -0.183897\n",
       "rsfmri_c_ngd_rspltp_ngd_dla      -0.132839\n",
       "rsfmri_c_ngd_smh_ngd_smh         -0.125316\n",
       "rsfmri_c_ngd_vta_ngd_smh         -0.121355\n",
       "rsfmri_c_ngd_smm_ngd_ad          -0.111522\n",
       "rsfmri_c_ngd_vta_ngd_dt           0.109670\n",
       "rsfmri_c_ngd_vta_ngd_ad          -0.093858\n",
       "rsfmri_c_ngd_rspltp_ngd_rspltp    0.055579\n",
       "rsfmri_c_ngd_ca_ngd_ca            0.023115\n",
       "dtype: float64"
      ]
     },
     "execution_count": 12,
     "metadata": {},
     "output_type": "execute_result"
    }
   ],
   "source": [
    "dFC_weights.loc[~np.isclose(dFC_weights, 0)].sort_values(ascending=False, key=np.abs)"
   ]
  },
  {
   "cell_type": "code",
   "execution_count": 13,
   "id": "e170cd6e-560b-45c4-8d48-8ad5d9ead710",
   "metadata": {},
   "outputs": [],
   "source": [
    "scca_SC = joblib.load(multiverse_sCCA.out_path / 'full--dev-famd-noout' / 'scca_SC.joblib.gz')\n",
    "\n",
    "SC_weights = pd.Series(scca_SC.x_weights_[:, 0], index=sconfull.columns)\n",
    "dFC_weights = pd.Series(scca_SC.y_weights_[:, 0], index=fcon.columns)"
   ]
  },
  {
   "cell_type": "code",
   "execution_count": 14,
   "id": "1be0fe0c-3f18-4bb6-9375-a1d3b8fd673d",
   "metadata": {},
   "outputs": [
    {
     "data": {
      "text/plain": [
       "dmri_dtifullfa_fiberat_atrlh       -0.428699\n",
       "dmri_dtifullfa_fiberat_unclh       -0.394064\n",
       "dmri_dtifullfa_fiberat_fxcutrh     -0.378167\n",
       "dmri_dtifullfa_fiberat_fxrh        -0.298440\n",
       "dmri_dtifullfa_fiberat_atrrh       -0.283180\n",
       "dmri_dtifullfa_fiberat_allfcclh    -0.263435\n",
       "dmri_dtifullfa_fiberat_ifolh       -0.252019\n",
       "dmri_dtifullfa_fiberat_allfiblh    -0.242809\n",
       "dmri_dtifullmd_fiberat_fxlh        -0.193613\n",
       "dmri_dtifullfa_fiberat_allfibers   -0.188747\n",
       "dmri_dtifullmd_fiberat_fxrh        -0.159831\n",
       "dmri_dtifullfa_fiberat_allfccrh    -0.125233\n",
       "dmri_dtifullfa_fiberat_allfibrh    -0.117200\n",
       "dmri_dtifullfa_fiberat_ilflh       -0.111078\n",
       "dmri_dtifullmd_fiberat_fmaj        -0.085436\n",
       "dmri_dtifullfa_fiberat_fmin        -0.081813\n",
       "dmri_dtifullfa_fiberat_cgclh       -0.047592\n",
       "dmri_dtifullmd_fiberat_fxcutlh     -0.009987\n",
       "dmri_dtifullfa_fiberat_uncrh       -0.004717\n",
       "dtype: float64"
      ]
     },
     "execution_count": 14,
     "metadata": {},
     "output_type": "execute_result"
    }
   ],
   "source": [
    "SC_weights.loc[~np.isclose(SC_weights, 0)].sort_values(ascending=False, key=np.abs)"
   ]
  },
  {
   "cell_type": "code",
   "execution_count": 15,
   "id": "d6331af2-aa38-4746-ba5f-9431599eefb2",
   "metadata": {},
   "outputs": [
    {
     "data": {
      "text/plain": [
       "rsfmri_c_ngd_fo_ngd_fo         0.545576\n",
       "rsfmri_c_ngd_dt_ngd_dt         0.430201\n",
       "rsfmri_c_ngd_rspltp_ngd_cgc   -0.329214\n",
       "rsfmri_c_ngd_smh_ngd_ad       -0.276378\n",
       "rsfmri_c_ngd_sa_ngd_rspltp    -0.247182\n",
       "rsfmri_c_ngd_rspltp_ngd_dla   -0.212433\n",
       "rsfmri_c_ngd_ad_ngd_ad        -0.201310\n",
       "rsfmri_c_ngd_dt_ngd_cgc       -0.196034\n",
       "rsfmri_c_ngd_dla_ngd_dt       -0.190625\n",
       "rsfmri_c_ngd_fo_ngd_cgc       -0.176423\n",
       "rsfmri_c_ngd_vta_ngd_smh      -0.135574\n",
       "rsfmri_c_ngd_vta_ngd_ad       -0.126891\n",
       "rsfmri_c_ngd_vta_ngd_dt        0.119493\n",
       "rsfmri_c_ngd_vs_ngd_fo        -0.111540\n",
       "rsfmri_c_ngd_smm_ngd_ad       -0.101783\n",
       "rsfmri_c_ngd_smh_ngd_smh      -0.078296\n",
       "rsfmri_c_ngd_vs_ngd_ca        -0.046249\n",
       "rsfmri_c_ngd_smm_ngd_ca        0.005146\n",
       "rsfmri_c_ngd_ca_ngd_ca         0.002356\n",
       "dtype: float64"
      ]
     },
     "execution_count": 15,
     "metadata": {},
     "output_type": "execute_result"
    }
   ],
   "source": [
    "dFC_weights.loc[~np.isclose(dFC_weights, 0)].sort_values(ascending=False, key=np.abs)"
   ]
  },
  {
   "cell_type": "code",
   "execution_count": 16,
   "id": "ca0cc7aa-df4a-4c51-a373-91418470fc34",
   "metadata": {},
   "outputs": [],
   "source": [
    "scca_SC = joblib.load(multiverse_sCCA.out_path / 'full-r-dev-famd-all' / 'scca_SC.joblib.gz')\n",
    "\n",
    "SC_weights = pd.Series(scca_SC.x_weights_[:, 0], index=sconfull.columns)\n",
    "dFC_weights = pd.Series(scca_SC.y_weights_[:, 0], index=fcon.columns)"
   ]
  },
  {
   "cell_type": "code",
   "execution_count": 17,
   "id": "616570d5-e905-4f0d-a3c0-001e4f544fee",
   "metadata": {},
   "outputs": [
    {
     "data": {
      "text/plain": [
       "dmri_dtifullmd_fiberat_cstlh    0.749688\n",
       "dmri_dtifullmd_fiberat_cc       0.466658\n",
       "dmri_dtifullmd_fiberat_cstrh    0.430917\n",
       "dmri_dtifullmd_fiberat_fxlh     0.185768\n",
       "dtype: float64"
      ]
     },
     "execution_count": 17,
     "metadata": {},
     "output_type": "execute_result"
    }
   ],
   "source": [
    "SC_weights.loc[~np.isclose(SC_weights, 0)].sort_values(ascending=False, key=np.abs)"
   ]
  },
  {
   "cell_type": "code",
   "execution_count": 18,
   "id": "dc46b2b3-882a-4ec9-8eb6-514944447174",
   "metadata": {},
   "outputs": [
    {
     "data": {
      "text/plain": [
       "rsfmri_c_ngd_dt_ngd_cgc    0.663990\n",
       "rsfmri_c_ngd_dt_ngd_dt    -0.613902\n",
       "rsfmri_c_ngd_dla_ngd_dt    0.421635\n",
       "rsfmri_c_ngd_fo_ngd_cgc    0.066825\n",
       "dtype: float64"
      ]
     },
     "execution_count": 18,
     "metadata": {},
     "output_type": "execute_result"
    }
   ],
   "source": [
    "dFC_weights.loc[~np.isclose(dFC_weights, 0)].sort_values(ascending=False, key=np.abs)"
   ]
  },
  {
   "cell_type": "code",
   "execution_count": 19,
   "id": "b39fd4ef-2d00-4df0-8f30-5a8be1bbf0bb",
   "metadata": {},
   "outputs": [],
   "source": [
    "scca_SC = joblib.load(multiverse_sCCA.out_path / 'full--dev-famd-all' / 'scca_SC.joblib.gz')\n",
    "\n",
    "SC_weights = pd.Series(scca_SC.x_weights_[:, 0], index=sconfull.columns)\n",
    "dFC_weights = pd.Series(scca_SC.y_weights_[:, 0], index=fcon.columns)"
   ]
  },
  {
   "cell_type": "code",
   "execution_count": 20,
   "id": "2cce9c56-a8cf-43e9-bb18-1ee8494cd5bc",
   "metadata": {},
   "outputs": [
    {
     "data": {
      "text/plain": [
       "dmri_dtifullmd_fiberat_cstlh    0.706869\n",
       "dmri_dtifullmd_fiberat_cc       0.507192\n",
       "dmri_dtifullmd_fiberat_cstrh    0.470000\n",
       "dmri_dtifullmd_fiberat_fxlh     0.148969\n",
       "dtype: float64"
      ]
     },
     "execution_count": 20,
     "metadata": {},
     "output_type": "execute_result"
    }
   ],
   "source": [
    "SC_weights.loc[~np.isclose(SC_weights, 0)].sort_values(ascending=False, key=np.abs)"
   ]
  },
  {
   "cell_type": "code",
   "execution_count": 21,
   "id": "49f9824b-c6dd-4781-afdb-f6e5be82afd9",
   "metadata": {},
   "outputs": [
    {
     "data": {
      "text/plain": [
       "rsfmri_c_ngd_dt_ngd_cgc     0.681127\n",
       "rsfmri_c_ngd_dt_ngd_dt     -0.601575\n",
       "rsfmri_c_ngd_dla_ngd_dt     0.413724\n",
       "rsfmri_c_ngd_fo_ngd_cgc     0.051709\n",
       "rsfmri_c_ngd_vta_ngd_cgc    0.018216\n",
       "dtype: float64"
      ]
     },
     "execution_count": 21,
     "metadata": {},
     "output_type": "execute_result"
    }
   ],
   "source": [
    "dFC_weights.loc[~np.isclose(dFC_weights, 0)].sort_values(ascending=False, key=np.abs)"
   ]
  },
  {
   "cell_type": "markdown",
   "id": "490676d9-da08-4cfe-835b-401a411d6823",
   "metadata": {},
   "source": [
    "# FA"
   ]
  },
  {
   "cell_type": "code",
   "execution_count": 22,
   "id": "32b37509-0e21-45a7-b7f6-694c723b3bad",
   "metadata": {},
   "outputs": [],
   "source": [
    "scca_SC = joblib.load(multiverse_sCCA.out_path / 'full-r-dev-fa-all' / 'scca_SC.joblib.gz')\n",
    "\n",
    "SC_weights = pd.Series(scca_SC.x_weights_[:, 0], index=sconfull.columns[:len(scon_tracts)])\n",
    "dFC_weights = pd.Series(scca_SC.y_weights_[:, 0], index=fcon.columns)"
   ]
  },
  {
   "cell_type": "code",
   "execution_count": 23,
   "id": "eb71dade-c2c6-43d5-8c2f-a10925e3e116",
   "metadata": {},
   "outputs": [
    {
     "data": {
      "text/plain": [
       "dmri_dtifullfa_fiberat_allfcclh   -0.930917\n",
       "dmri_dtifullfa_fiberat_allfiblh   -0.365231\n",
       "dtype: float64"
      ]
     },
     "execution_count": 23,
     "metadata": {},
     "output_type": "execute_result"
    }
   ],
   "source": [
    "SC_weights.loc[~np.isclose(SC_weights, 0)].sort_values(ascending=False, key=np.abs)"
   ]
  },
  {
   "cell_type": "code",
   "execution_count": 24,
   "id": "9a63e1bc-567b-4d35-872f-945f169aad2b",
   "metadata": {},
   "outputs": [
    {
     "data": {
      "text/plain": [
       "rsfmri_c_ngd_smh_ngd_ad       -0.469351\n",
       "rsfmri_c_ngd_smm_ngd_smh      -0.444388\n",
       "rsfmri_c_ngd_rspltp_ngd_cgc   -0.432949\n",
       "rsfmri_c_ngd_ca_ngd_ad         0.291039\n",
       "rsfmri_c_ngd_fo_ngd_fo         0.262023\n",
       "rsfmri_c_ngd_smm_ngd_ca        0.226784\n",
       "rsfmri_c_ngd_smh_ngd_smh      -0.194107\n",
       "rsfmri_c_ngd_fo_ngd_dla        0.174111\n",
       "rsfmri_c_ngd_sa_ngd_rspltp    -0.171565\n",
       "rsfmri_c_ngd_ad_ngd_ad        -0.158278\n",
       "rsfmri_c_ngd_smh_ngd_dla       0.158089\n",
       "rsfmri_c_ngd_smm_ngd_ad       -0.129273\n",
       "rsfmri_c_ngd_vs_ngd_smh        0.091324\n",
       "rsfmri_c_ngd_sa_ngd_fo        -0.064278\n",
       "rsfmri_c_ngd_smh_ngd_rspltp   -0.062190\n",
       "rsfmri_c_ngd_vs_ngd_smm        0.057772\n",
       "rsfmri_c_ngd_rspltp_ngd_ca    -0.055165\n",
       "rsfmri_c_ngd_vta_ngd_vta       0.039634\n",
       "rsfmri_c_ngd_vta_ngd_cgc       0.036401\n",
       "rsfmri_c_ngd_smh_ngd_ca        0.013984\n",
       "dtype: float64"
      ]
     },
     "execution_count": 24,
     "metadata": {},
     "output_type": "execute_result"
    }
   ],
   "source": [
    "dFC_weights.loc[~np.isclose(dFC_weights, 0)].sort_values(ascending=False, key=np.abs)"
   ]
  },
  {
   "cell_type": "code",
   "execution_count": 25,
   "id": "32d3ce86-435e-4843-9216-8b9d240e7f1c",
   "metadata": {},
   "outputs": [],
   "source": [
    "scca_SC = joblib.load(multiverse_sCCA.out_path / 'full--dev-fa-all' / 'scca_SC.joblib.gz')\n",
    "\n",
    "SC_weights = pd.Series(scca_SC.x_weights_[:, 0], index=sconfull.columns[:len(scon_tracts)])\n",
    "dFC_weights = pd.Series(scca_SC.y_weights_[:, 0], index=fcon.columns)"
   ]
  },
  {
   "cell_type": "code",
   "execution_count": 26,
   "id": "6eea3123-06cd-40d2-834b-a8f7372d1dd0",
   "metadata": {},
   "outputs": [
    {
     "data": {
      "text/plain": [
       "dmri_dtifullfa_fiberat_allfcclh   -0.947912\n",
       "dmri_dtifullfa_fiberat_allfiblh   -0.316998\n",
       "dmri_dtifullfa_fiberat_atrlh      -0.031238\n",
       "dtype: float64"
      ]
     },
     "execution_count": 26,
     "metadata": {},
     "output_type": "execute_result"
    }
   ],
   "source": [
    "SC_weights.loc[~np.isclose(SC_weights, 0)].sort_values(ascending=False, key=np.abs)"
   ]
  },
  {
   "cell_type": "code",
   "execution_count": 27,
   "id": "4069c3d1-1be1-4595-927c-4debd2c06b11",
   "metadata": {},
   "outputs": [
    {
     "data": {
      "text/plain": [
       "rsfmri_c_ngd_smh_ngd_ad       -0.473566\n",
       "rsfmri_c_ngd_smm_ngd_smh      -0.441655\n",
       "rsfmri_c_ngd_rspltp_ngd_cgc   -0.407215\n",
       "rsfmri_c_ngd_ca_ngd_ad         0.322567\n",
       "rsfmri_c_ngd_fo_ngd_fo         0.263529\n",
       "rsfmri_c_ngd_smm_ngd_ca        0.239713\n",
       "rsfmri_c_ngd_fo_ngd_dla        0.184051\n",
       "rsfmri_c_ngd_sa_ngd_rspltp    -0.170718\n",
       "rsfmri_c_ngd_smh_ngd_smh      -0.170622\n",
       "rsfmri_c_ngd_ad_ngd_ad        -0.168985\n",
       "rsfmri_c_ngd_smm_ngd_ad       -0.137745\n",
       "rsfmri_c_ngd_smh_ngd_dla       0.137559\n",
       "rsfmri_c_ngd_vs_ngd_smh        0.097477\n",
       "rsfmri_c_ngd_sa_ngd_fo        -0.080852\n",
       "rsfmri_c_ngd_smh_ngd_rspltp   -0.048507\n",
       "rsfmri_c_ngd_vs_ngd_smm        0.045063\n",
       "rsfmri_c_ngd_rspltp_ngd_ca    -0.044360\n",
       "rsfmri_c_ngd_vta_ngd_vta       0.038087\n",
       "rsfmri_c_ngd_smh_ngd_ca        0.033311\n",
       "rsfmri_c_ngd_vta_ngd_cgc       0.016867\n",
       "rsfmri_c_ngd_sa_ngd_ad         0.008383\n",
       "rsfmri_c_ngd_vta_ngd_ca        0.001871\n",
       "dtype: float64"
      ]
     },
     "execution_count": 27,
     "metadata": {},
     "output_type": "execute_result"
    }
   ],
   "source": [
    "dFC_weights.loc[~np.isclose(dFC_weights, 0)].sort_values(ascending=False, key=np.abs)"
   ]
  }
 ],
 "metadata": {
  "kernelspec": {
   "display_name": "Python [conda env:StructFunc]",
   "language": "python",
   "name": "conda-env-StructFunc-py"
  },
  "language_info": {
   "codemirror_mode": {
    "name": "ipython",
    "version": 3
   },
   "file_extension": ".py",
   "mimetype": "text/x-python",
   "name": "python",
   "nbconvert_exporter": "python",
   "pygments_lexer": "ipython3",
   "version": "3.9.7"
  },
  "toc-autonumbering": true
 },
 "nbformat": 4,
 "nbformat_minor": 5
}
