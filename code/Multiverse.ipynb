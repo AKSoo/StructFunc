{
 "cells": [
  {
   "cell_type": "code",
   "execution_count": 1,
   "id": "56683cfd-5da6-4850-ac6a-baae51c6f988",
   "metadata": {},
   "outputs": [
    {
     "name": "stdout",
     "output_type": "stream",
     "text": [
      "/home/kimsin98/Adolescent/StructFunc\n"
     ]
    }
   ],
   "source": [
    "%cd .."
   ]
  },
  {
   "cell_type": "code",
   "execution_count": 2,
   "id": "4cbce905-26c2-4c9e-b607-507c4617f04f",
   "metadata": {},
   "outputs": [],
   "source": [
    "import warnings\n",
    "warnings.simplefilter(action='ignore', category=FutureWarning)\n",
    "\n",
    "import numpy as np\n",
    "import pandas as pd\n",
    "idx = pd.IndexSlice\n",
    "SEED = 69\n",
    "\n",
    "import matplotlib.pyplot as plt\n",
    "import seaborn as sns\n",
    "sns.set_theme(style='ticks')\n",
    "colors = sns.color_palette()"
   ]
  },
  {
   "cell_type": "code",
   "execution_count": 3,
   "id": "84913b80-f197-432a-8520-321f2a0c0ef2",
   "metadata": {},
   "outputs": [],
   "source": [
    "from utils import abcd"
   ]
  },
  {
   "cell_type": "markdown",
   "id": "e7f9e3a6-d29e-4b66-8691-800c82308759",
   "metadata": {},
   "source": [
    "---"
   ]
  },
  {
   "cell_type": "code",
   "execution_count": 4,
   "id": "3dbd033b-8005-47c0-a87c-0846c78f3aa8",
   "metadata": {},
   "outputs": [],
   "source": [
    "multiverse_pvals = pd.read_csv(abcd.OUT_PATH / 'multiverse/pvals.csv', index_col=0)"
   ]
  },
  {
   "cell_type": "code",
   "execution_count": 12,
   "id": "19f9bc2b-738d-4a47-a4ab-bd32cc8e50ed",
   "metadata": {},
   "outputs": [
    {
     "data": {
      "text/html": [
       "<div>\n",
       "<style scoped>\n",
       "    .dataframe tbody tr th:only-of-type {\n",
       "        vertical-align: middle;\n",
       "    }\n",
       "\n",
       "    .dataframe tbody tr th {\n",
       "        vertical-align: top;\n",
       "    }\n",
       "\n",
       "    .dataframe thead th {\n",
       "        text-align: right;\n",
       "    }\n",
       "</style>\n",
       "<table border=\"1\" class=\"dataframe\">\n",
       "  <thead>\n",
       "    <tr style=\"text-align: right;\">\n",
       "      <th></th>\n",
       "      <th>p_SC</th>\n",
       "    </tr>\n",
       "  </thead>\n",
       "  <tbody>\n",
       "    <tr>\n",
       "      <th>base--dev-famd-noout</th>\n",
       "      <td>0.001</td>\n",
       "    </tr>\n",
       "    <tr>\n",
       "      <th>base-m-dev-famd-noout</th>\n",
       "      <td>0.001</td>\n",
       "    </tr>\n",
       "    <tr>\n",
       "      <th>base-r-dev-famd-noout</th>\n",
       "      <td>0.001</td>\n",
       "    </tr>\n",
       "    <tr>\n",
       "      <th>base-r-devsoft-famd-noout</th>\n",
       "      <td>0.001</td>\n",
       "    </tr>\n",
       "    <tr>\n",
       "      <th>base-mr-dev-famd-noout</th>\n",
       "      <td>0.001</td>\n",
       "    </tr>\n",
       "    <tr>\n",
       "      <th>full--dev-famd-noout</th>\n",
       "      <td>0.001</td>\n",
       "    </tr>\n",
       "    <tr>\n",
       "      <th>full-m-dev-fa-noout</th>\n",
       "      <td>0.001</td>\n",
       "    </tr>\n",
       "    <tr>\n",
       "      <th>full-m-dev-famd-noout</th>\n",
       "      <td>0.001</td>\n",
       "    </tr>\n",
       "    <tr>\n",
       "      <th>full-m-devsoft-fa-noout</th>\n",
       "      <td>0.001</td>\n",
       "    </tr>\n",
       "    <tr>\n",
       "      <th>full-m-devsoft-famd-noout</th>\n",
       "      <td>0.001</td>\n",
       "    </tr>\n",
       "    <tr>\n",
       "      <th>full-r-dev-fa-noout</th>\n",
       "      <td>0.001</td>\n",
       "    </tr>\n",
       "    <tr>\n",
       "      <th>full-r-dev-famd-noout</th>\n",
       "      <td>0.001</td>\n",
       "    </tr>\n",
       "    <tr>\n",
       "      <th>full-r-devsoft-famd-noout</th>\n",
       "      <td>0.001</td>\n",
       "    </tr>\n",
       "    <tr>\n",
       "      <th>full-mr-dev-fa-noout</th>\n",
       "      <td>0.001</td>\n",
       "    </tr>\n",
       "    <tr>\n",
       "      <th>full-mr-devsoft-famd-noout</th>\n",
       "      <td>0.001</td>\n",
       "    </tr>\n",
       "  </tbody>\n",
       "</table>\n",
       "</div>"
      ],
      "text/plain": [
       "                             p_SC\n",
       "base--dev-famd-noout        0.001\n",
       "base-m-dev-famd-noout       0.001\n",
       "base-r-dev-famd-noout       0.001\n",
       "base-r-devsoft-famd-noout   0.001\n",
       "base-mr-dev-famd-noout      0.001\n",
       "full--dev-famd-noout        0.001\n",
       "full-m-dev-fa-noout         0.001\n",
       "full-m-dev-famd-noout       0.001\n",
       "full-m-devsoft-fa-noout     0.001\n",
       "full-m-devsoft-famd-noout   0.001\n",
       "full-r-dev-fa-noout         0.001\n",
       "full-r-dev-famd-noout       0.001\n",
       "full-r-devsoft-famd-noout   0.001\n",
       "full-mr-dev-fa-noout        0.001\n",
       "full-mr-devsoft-famd-noout  0.001"
      ]
     },
     "execution_count": 12,
     "metadata": {},
     "output_type": "execute_result"
    }
   ],
   "source": [
    "multiverse_pvals.loc[multiverse_pvals['p_SC'] <= 0.001]"
   ]
  },
  {
   "cell_type": "code",
   "execution_count": 4,
   "id": "f06de30b-26f8-4fa7-80aa-a3a06f8bfc36",
   "metadata": {},
   "outputs": [],
   "source": [
    "multiverse = pd.read_csv(histtiverse_sCCA.out_path / 'summary.csv', index_col=0)"
   ]
  },
  {
   "cell_type": "code",
   "execution_count": 5,
   "id": "10e53130-2140-430a-bef6-b218a6b3ae19",
   "metadata": {},
   "outputs": [
    {
     "data": {
      "text/plain": [
       "full-r-dev-famd-noout      0.213125\n",
       "full--dev-famd-noout       0.192345\n",
       "full-mr-dev-famd-noout     0.170209\n",
       "full-r-devsoft-fa-noout    0.155428\n",
       "full-r-dev-fa-noout        0.151782\n",
       "                             ...   \n",
       "base--devsoft-famd-all     0.069255\n",
       "base-m-devsoft-fa-all      0.067718\n",
       "base-mr-dev-famd-all       0.064838\n",
       "base-mr-dev-fa-all         0.064561\n",
       "base-r-dev-fa-all          0.063863\n",
       "Name: SC, Length: 64, dtype: float64"
      ]
     },
     "execution_count": 5,
     "metadata": {},
     "output_type": "execute_result"
    }
   ],
   "source": [
    "multiverse['SC'].sort_values(ascending=False)"
   ]
  },
  {
   "cell_type": "code",
   "execution_count": 6,
   "id": "a360ed04-ffd7-4947-8c0a-f1dc5ae0fe4f",
   "metadata": {},
   "outputs": [
    {
     "data": {
      "text/plain": [
       "base--devsoft-famd-noout    0.021224\n",
       "full-mr-dev-fa-noout        0.011331\n",
       "full-mr-dev-famd-noout      0.004933\n",
       "full-m-devsoft-fa-noout     0.001824\n",
       "full--devsoft-fa-noout      0.001277\n",
       "                              ...   \n",
       "full-r-devsoft-famd-all    -0.015118\n",
       "base-r-dev-famd-noout      -0.016187\n",
       "full--dev-famd-noout       -0.018111\n",
       "full-r-dev-famd-noout      -0.023408\n",
       "base-m-devsoft-fa-noout    -0.024922\n",
       "Length: 64, dtype: float64"
      ]
     },
     "execution_count": 6,
     "metadata": {},
     "output_type": "execute_result"
    }
   ],
   "source": [
    "(multiverse['FCSC'] - multiverse['FC']).sort_values(ascending=False)"
   ]
  },
  {
   "cell_type": "code",
   "execution_count": 8,
   "id": "1f4505bb-6692-4563-ad42-50404af811a7",
   "metadata": {},
   "outputs": [],
   "source": [
    "scca_SC = joblib.load(abcd.OUT_PATH / 'multiverse'\n",
    "                      / multiverse['SC'].sort_values(ascending=False).index[0]\n",
    "                      / 'scca_SC.joblib.gz')"
   ]
  },
  {
   "cell_type": "code",
   "execution_count": 19,
   "id": "caeecf19-168f-420b-a27a-5cf9728558b4",
   "metadata": {},
   "outputs": [
    {
     "name": "stdout",
     "output_type": "stream",
     "text": [
      "p = 0.001\n"
     ]
    },
    {
     "data": {
      "image/png": "[encoded data removed]",
      "text/plain": [
       "<Figure size 432x288 with 1 Axes>"
      ]
     },
     "metadata": {},
     "output_type": "display_data"
    }
   ],
   "source": [
    "print('p =', ((corr_distrib >= scca_SC.corrs_.max()).sum() + 1) / (len(corr_distrib) + 1))\n",
    "\n",
    "ax = sns.histplot(corr_distrib, stat='density', element='step')\n",
    "ax.axvline(x=scca_SC.corrs_.max())\n",
    "ax.set_title('SC ~ dFC association')\n",
    "plt.show()"
   ]
  },
  {
   "cell_type": "code",
   "execution_count": 22,
   "id": "b96e3058-9647-4952-bf7f-a2bfbe2a671b",
   "metadata": {},
   "outputs": [],
   "source": [
    "dFC, SC, FC, FCSC = preprocess(fcon.loc[subs_test], scon.loc[subs_test])"
   ]
  },
  {
   "cell_type": "code",
   "execution_count": 30,
   "id": "812c61c9-c424-4352-a54f-daeb27e29104",
   "metadata": {},
   "outputs": [
    {
     "name": "stderr",
     "output_type": "stream",
     "text": [
      "/home/kimsin98/mambaforge/envs/StructFunc/lib/python3.9/site-packages/gemmr/estimators/r_estimators.py:223: UserWarning: More than 1 mode selected: NOT TESTED\n",
      "  warnings.warn('More than 1 mode selected: NOT TESTED')\n"
     ]
    }
   ],
   "source": [
    "SC_score, dFC_score = scca_SC.transform(SC, dFC)"
   ]
  },
  {
   "cell_type": "code",
   "execution_count": 35,
   "id": "557a4995-31de-43d9-ac10-fd600a5980d2",
   "metadata": {},
   "outputs": [],
   "source": [
    "corrs_test = [stats.pearsonr(SC_score[:, i], dFC_score[:, i])\n",
    "              for i in range(len(scca_SC.corrs_))]"
   ]
  },
  {
   "cell_type": "code",
   "execution_count": 36,
   "id": "729f95b4-4fe6-473b-9dad-1d0eeec65950",
   "metadata": {},
   "outputs": [
    {
     "data": {
      "text/plain": [
       "[(0.19083213002354274, 1.5474329654179582e-05),\n",
       " (0.04311524713304098, 0.33309180468165206),\n",
       " (0.024127956656061576, 0.5881757473175143),\n",
       " (0.06449561614010518, 0.14741758548289027),\n",
       " (-0.07180441066153287, 0.10668182802255202),\n",
       " (-0.05927774183782812, 0.1830926392171232),\n",
       " (0.005603163518614127, 0.8999461957096845),\n",
       " (0.07940868498153761, 0.0743172063938701),\n",
       " (0.03895992784219503, 0.3818206918533282),\n",
       " (0.013339733532591698, 0.7646798118797424)]"
      ]
     },
     "execution_count": 36,
     "metadata": {},
     "output_type": "execute_result"
    }
   ],
   "source": [
    "corrs_test[0][0]"
   ]
  },
  {
   "cell_type": "code",
   "execution_count": 52,
   "id": "862ee10f-6cf6-4794-b0a4-2beda3e7c761",
   "metadata": {},
   "outputs": [
    {
     "data": {
      "text/plain": [
       "Index(['dmri_dtifullfa_fiberat_fxrh', 'dmri_dtifullfa_fiberat_cgclh',\n",
       "       'dmri_dtifullfa_fiberat_atrrh', 'dmri_dtifullfa_fiberat_atrlh',\n",
       "       'dmri_dtifullfa_fiberat_unclh', 'dmri_dtifullfa_fiberat_ilflh',\n",
       "       'dmri_dtifullfa_fiberat_ifolh', 'dmri_dtifullfa_fiberat_fmin',\n",
       "       'dmri_dtifullfa_fiberat_fxcutrh', 'dmri_dtifullfa_fiberat_allfibers',\n",
       "       'dmri_dtifullfa_fiberat_allfccrh', 'dmri_dtifullfa_fiberat_allfcclh',\n",
       "       'dmri_dtifullfa_fiberat_allfibrh', 'dmri_dtifullfa_fiberat_allfiblh',\n",
       "       'dmri_dtifullmd_fiberat_fxrh', 'dmri_dtifullmd_fiberat_fxlh',\n",
       "       'dmri_dtifullmd_fiberat_fmaj', 'dmri_dtifullmd_fiberat_cc',\n",
       "       'dmri_dtifullmd_fiberat_fxcutrh', 'dmri_dtifullmd_fiberat_fxcutlh'],\n",
       "      dtype='object')"
      ]
     },
     "execution_count": 52,
     "metadata": {},
     "output_type": "execute_result"
    }
   ],
   "source": [
    "scon.columns[~np.isclose(scca_SC.x_weights_[:, 0], 0)]"
   ]
  },
  {
   "cell_type": "code",
   "execution_count": 54,
   "id": "0144fe40-c154-4d52-a092-d8608db6c696",
   "metadata": {},
   "outputs": [
    {
     "data": {
      "text/plain": [
       "Index(['rsfmri_c_ngd_ad_ngd_ad', 'rsfmri_c_ngd_ca_ngd_ca',\n",
       "       'rsfmri_c_ngd_dt_ngd_cgc', 'rsfmri_c_ngd_dt_ngd_dt',\n",
       "       'rsfmri_c_ngd_dla_ngd_dt', 'rsfmri_c_ngd_fo_ngd_cgc',\n",
       "       'rsfmri_c_ngd_fo_ngd_fo', 'rsfmri_c_ngd_rspltp_ngd_cgc',\n",
       "       'rsfmri_c_ngd_rspltp_ngd_dla', 'rsfmri_c_ngd_rspltp_ngd_rspltp',\n",
       "       'rsfmri_c_ngd_smh_ngd_ad', 'rsfmri_c_ngd_smh_ngd_smh',\n",
       "       'rsfmri_c_ngd_smm_ngd_ad', 'rsfmri_c_ngd_sa_ngd_rspltp',\n",
       "       'rsfmri_c_ngd_vta_ngd_ad', 'rsfmri_c_ngd_vta_ngd_dt',\n",
       "       'rsfmri_c_ngd_vta_ngd_smh'],\n",
       "      dtype='object')"
      ]
     },
     "execution_count": 54,
     "metadata": {},
     "output_type": "execute_result"
    }
   ],
   "source": [
    "fcon.columns[~np.isclose(scca_SC.y_weights_[:, 0], 0)]"
   ]
  }
 ],
 "metadata": {
  "kernelspec": {
   "display_name": "Python [conda env:StructFunc]",
   "language": "python",
   "name": "conda-env-StructFunc-py"
  },
  "language_info": {
   "codemirror_mode": {
    "name": "ipython",
    "version": 3
   },
   "file_extension": ".py",
   "mimetype": "text/x-python",
   "name": "python",
   "nbconvert_exporter": "python",
   "pygments_lexer": "ipython3",
   "version": "3.9.6"
  },
  "toc-autonumbering": true
 },
 "nbformat": 4,
 "nbformat_minor": 5
}
