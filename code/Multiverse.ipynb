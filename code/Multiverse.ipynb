{
 "cells": [
  {
   "cell_type": "code",
   "execution_count": 1,
   "id": "56683cfd-5da6-4850-ac6a-baae51c6f988",
   "metadata": {},
   "outputs": [
    {
     "name": "stdout",
     "output_type": "stream",
     "text": [
      "/home/kimsin98/Adolescent/StructFunc\n"
     ]
    }
   ],
   "source": [
    "%cd .."
   ]
  },
  {
   "cell_type": "code",
   "execution_count": 2,
   "id": "4cbce905-26c2-4c9e-b607-507c4617f04f",
   "metadata": {},
   "outputs": [],
   "source": [
    "import warnings\n",
    "warnings.simplefilter(action='ignore', category=FutureWarning)\n",
    "\n",
    "import numpy as np\n",
    "import pandas as pd\n",
    "idx = pd.IndexSlice\n",
    "SEED = 69\n",
    "\n",
    "import matplotlib.pyplot as plt\n",
    "import seaborn as sns\n",
    "sns.set_theme(style='ticks')\n",
    "colors = sns.color_palette()"
   ]
  },
  {
   "cell_type": "code",
   "execution_count": 3,
   "id": "84913b80-f197-432a-8520-321f2a0c0ef2",
   "metadata": {},
   "outputs": [],
   "source": [
    "import joblib\n",
    "from scipy import stats\n",
    "\n",
    "import multiverse_sCCA, multiverse_test"
   ]
  },
  {
   "cell_type": "markdown",
   "id": "9fc90428-eabb-4ae6-97b6-83b2fb36d57b",
   "metadata": {},
   "source": [
    "# Multiverse Summary"
   ]
  },
  {
   "cell_type": "code",
   "execution_count": 4,
   "id": "e9be8012-6f7c-4f9b-98f4-3ac53baf28a4",
   "metadata": {},
   "outputs": [],
   "source": [
    "summary = pd.read_csv(multiverse_sCCA.out_path / 'summary.csv', index_col=0)\n",
    "test = pd.read_csv(multiverse_sCCA.out_path / 'test.csv', index_col=0)"
   ]
  },
  {
   "cell_type": "code",
   "execution_count": null,
   "id": "1a405fb8-a751-45ba-ad7c-c958d76c6323",
   "metadata": {},
   "outputs": [
    {
     "data": {
      "text/html": [
       "<div>\n",
       "<style scoped>\n",
       "    .dataframe tbody tr th:only-of-type {\n",
       "        vertical-align: middle;\n",
       "    }\n",
       "\n",
       "    .dataframe tbody tr th {\n",
       "        vertical-align: top;\n",
       "    }\n",
       "\n",
       "    .dataframe thead th {\n",
       "        text-align: right;\n",
       "    }\n",
       "</style>\n",
       "<table border=\"1\" class=\"dataframe\">\n",
       "  <thead>\n",
       "    <tr style=\"text-align: right;\">\n",
       "      <th></th>\n",
       "      <th>p_SC</th>\n",
       "      <th>SC</th>\n",
       "      <th>FC</th>\n",
       "      <th>FCSC</th>\n",
       "    </tr>\n",
       "  </thead>\n",
       "  <tbody>\n",
       "    <tr>\n",
       "      <th>full-r-dev-famd-noout</th>\n",
       "      <td>0.0002</td>\n",
       "      <td>0.213125</td>\n",
       "      <td>0.644793</td>\n",
       "      <td>0.621385</td>\n",
       "    </tr>\n",
       "    <tr>\n",
       "      <th>full--dev-famd-noout</th>\n",
       "      <td>0.0002</td>\n",
       "      <td>0.192345</td>\n",
       "      <td>0.644411</td>\n",
       "      <td>0.626300</td>\n",
       "    </tr>\n",
       "    <tr>\n",
       "      <th>full-r-dev-fa-noout</th>\n",
       "      <td>0.0002</td>\n",
       "      <td>0.151782</td>\n",
       "      <td>0.638677</td>\n",
       "      <td>0.638948</td>\n",
       "    </tr>\n",
       "    <tr>\n",
       "      <th>full-mr-dev-fa-noout</th>\n",
       "      <td>0.0002</td>\n",
       "      <td>0.149373</td>\n",
       "      <td>0.624201</td>\n",
       "      <td>0.635532</td>\n",
       "    </tr>\n",
       "    <tr>\n",
       "      <th>full-m-dev-fa-noout</th>\n",
       "      <td>0.0004</td>\n",
       "      <td>0.149073</td>\n",
       "      <td>0.629520</td>\n",
       "      <td>0.629919</td>\n",
       "    </tr>\n",
       "    <tr>\n",
       "      <th>base-r-dev-famd-noout</th>\n",
       "      <td>0.0002</td>\n",
       "      <td>0.144552</td>\n",
       "      <td>0.621997</td>\n",
       "      <td>0.605810</td>\n",
       "    </tr>\n",
       "    <tr>\n",
       "      <th>base--dev-famd-noout</th>\n",
       "      <td>0.0002</td>\n",
       "      <td>0.139400</td>\n",
       "      <td>0.644033</td>\n",
       "      <td>0.635176</td>\n",
       "    </tr>\n",
       "    <tr>\n",
       "      <th>base-m-dev-famd-noout</th>\n",
       "      <td>0.0002</td>\n",
       "      <td>0.135782</td>\n",
       "      <td>0.644641</td>\n",
       "      <td>0.643323</td>\n",
       "    </tr>\n",
       "    <tr>\n",
       "      <th>full-m-devsoft-famd-noout</th>\n",
       "      <td>0.0002</td>\n",
       "      <td>0.133647</td>\n",
       "      <td>0.641915</td>\n",
       "      <td>0.642229</td>\n",
       "    </tr>\n",
       "    <tr>\n",
       "      <th>base-mr-dev-famd-noout</th>\n",
       "      <td>0.0002</td>\n",
       "      <td>0.121280</td>\n",
       "      <td>0.639253</td>\n",
       "      <td>0.636896</td>\n",
       "    </tr>\n",
       "    <tr>\n",
       "      <th>base-r-devsoft-famd-noout</th>\n",
       "      <td>0.0002</td>\n",
       "      <td>0.121098</td>\n",
       "      <td>0.624878</td>\n",
       "      <td>0.623604</td>\n",
       "    </tr>\n",
       "    <tr>\n",
       "      <th>full-m-devsoft-fa-noout</th>\n",
       "      <td>0.0002</td>\n",
       "      <td>0.116688</td>\n",
       "      <td>0.613760</td>\n",
       "      <td>0.615584</td>\n",
       "    </tr>\n",
       "    <tr>\n",
       "      <th>full-r-devsoft-famd-noout</th>\n",
       "      <td>0.0006</td>\n",
       "      <td>0.109556</td>\n",
       "      <td>0.623695</td>\n",
       "      <td>0.622522</td>\n",
       "    </tr>\n",
       "    <tr>\n",
       "      <th>full-mr-devsoft-famd-noout</th>\n",
       "      <td>0.0004</td>\n",
       "      <td>0.106408</td>\n",
       "      <td>0.644359</td>\n",
       "      <td>0.645396</td>\n",
       "    </tr>\n",
       "  </tbody>\n",
       "</table>\n",
       "</div>"
      ],
      "text/plain": [
       "                              p_SC        SC        FC      FCSC\n",
       "full-r-dev-famd-noout       0.0002  0.213125  0.644793  0.621385\n",
       "full--dev-famd-noout        0.0002  0.192345  0.644411  0.626300\n",
       "full-r-dev-fa-noout         0.0002  0.151782  0.638677  0.638948\n",
       "full-mr-dev-fa-noout        0.0002  0.149373  0.624201  0.635532\n",
       "full-m-dev-fa-noout         0.0004  0.149073  0.629520  0.629919\n",
       "base-r-dev-famd-noout       0.0002  0.144552  0.621997  0.605810\n",
       "base--dev-famd-noout        0.0002  0.139400  0.644033  0.635176\n",
       "base-m-dev-famd-noout       0.0002  0.135782  0.644641  0.643323\n",
       "full-m-devsoft-famd-noout   0.0002  0.133647  0.641915  0.642229\n",
       "base-mr-dev-famd-noout      0.0002  0.121280  0.639253  0.636896\n",
       "base-r-devsoft-famd-noout   0.0002  0.121098  0.624878  0.623604\n",
       "full-m-devsoft-fa-noout     0.0002  0.116688  0.613760  0.615584\n",
       "full-r-devsoft-famd-noout   0.0006  0.109556  0.623695  0.622522\n",
       "full-mr-devsoft-famd-noout  0.0004  0.106408  0.644359  0.645396"
      ]
     },
     "execution_count": 5,
     "metadata": {},
     "output_type": "execute_result"
    }
   ],
   "source": [
    "significant = pvals.loc[pvals['p_SC'] < 0.05/len(pvals)].join(summary)\n",
    "significant.sort_values('SC', ascending=False)"
   ]
  },
  {
   "cell_type": "code",
   "execution_count": 6,
   "id": "415f979d-7536-4723-9eec-96bb43cd714f",
   "metadata": {},
   "outputs": [
    {
     "data": {
      "text/plain": [
       "full-mr-dev-fa-noout          0.011331\n",
       "full-m-devsoft-fa-noout       0.001824\n",
       "full-mr-devsoft-famd-noout    0.001037\n",
       "full-m-dev-fa-noout           0.000399\n",
       "full-m-devsoft-famd-noout     0.000314\n",
       "full-r-dev-fa-noout           0.000271\n",
       "full-r-devsoft-famd-noout    -0.001174\n",
       "base-r-devsoft-famd-noout    -0.001275\n",
       "base-m-dev-famd-noout        -0.001318\n",
       "base-mr-dev-famd-noout       -0.002357\n",
       "base--dev-famd-noout         -0.008856\n",
       "base-r-dev-famd-noout        -0.016187\n",
       "full--dev-famd-noout         -0.018111\n",
       "full-r-dev-famd-noout        -0.023408\n",
       "dtype: float64"
      ]
     },
     "execution_count": 6,
     "metadata": {},
     "output_type": "execute_result"
    }
   ],
   "source": [
    "(significant['FCSC'] - significant['FC']).sort_values(ascending=False)"
   ]
  },
  {
   "cell_type": "markdown",
   "id": "29c3d1b0-3eef-4bc3-8b2e-b7e67d15c258",
   "metadata": {},
   "source": [
    "## Test"
   ]
  },
  {
   "cell_type": "code",
   "execution_count": 19,
   "id": "3ca1e302-0d99-4f11-ab6d-2a7642ab4aa2",
   "metadata": {},
   "outputs": [],
   "source": [
    "def test_scca(verse):\n",
    "    dFC, SC, _, _ = multiverse_sCCA.verse_inputs(verse, test=True)\n",
    "    scca_SC = joblib.load(multiverse_sCCA.out_path / verse / 'scca_SC.joblib.gz')\n",
    "    \n",
    "    SC_score, dFC_score = scca_SC.transform(SC, dFC)\n",
    "    test_corrs = np.array([stats.pearsonr(SC_score[:, i], dFC_score[:, i])[0]\n",
    "                           for i in range(len(scca_SC.corrs_))])\n",
    "    return test_corrs.max()"
   ]
  },
  {
   "cell_type": "code",
   "execution_count": 21,
   "id": "af03e053-8664-428c-abde-2b674984158d",
   "metadata": {},
   "outputs": [],
   "source": [
    "significant['SC_test'] = joblib.Parallel(n_jobs=4)(joblib.delayed(test_scca)(v)\n",
    "                                                   for v in significant.index)"
   ]
  },
  {
   "cell_type": "code",
   "execution_count": 22,
   "id": "e89dffe9-81c0-4b24-b6f7-a3555186dab7",
   "metadata": {},
   "outputs": [
    {
     "data": {
      "text/html": [
       "<div>\n",
       "<style scoped>\n",
       "    .dataframe tbody tr th:only-of-type {\n",
       "        vertical-align: middle;\n",
       "    }\n",
       "\n",
       "    .dataframe tbody tr th {\n",
       "        vertical-align: top;\n",
       "    }\n",
       "\n",
       "    .dataframe thead th {\n",
       "        text-align: right;\n",
       "    }\n",
       "</style>\n",
       "<table border=\"1\" class=\"dataframe\">\n",
       "  <thead>\n",
       "    <tr style=\"text-align: right;\">\n",
       "      <th></th>\n",
       "      <th>p_SC</th>\n",
       "      <th>SC</th>\n",
       "      <th>FC</th>\n",
       "      <th>FCSC</th>\n",
       "      <th>SC_test</th>\n",
       "    </tr>\n",
       "  </thead>\n",
       "  <tbody>\n",
       "    <tr>\n",
       "      <th>base--dev-famd-noout</th>\n",
       "      <td>0.0002</td>\n",
       "      <td>0.139400</td>\n",
       "      <td>0.644033</td>\n",
       "      <td>0.635176</td>\n",
       "      <td>0.053478</td>\n",
       "    </tr>\n",
       "    <tr>\n",
       "      <th>base-m-dev-famd-noout</th>\n",
       "      <td>0.0002</td>\n",
       "      <td>0.135782</td>\n",
       "      <td>0.644641</td>\n",
       "      <td>0.643323</td>\n",
       "      <td>0.064807</td>\n",
       "    </tr>\n",
       "    <tr>\n",
       "      <th>base-r-dev-famd-noout</th>\n",
       "      <td>0.0002</td>\n",
       "      <td>0.144552</td>\n",
       "      <td>0.621997</td>\n",
       "      <td>0.605810</td>\n",
       "      <td>0.068373</td>\n",
       "    </tr>\n",
       "    <tr>\n",
       "      <th>base-r-devsoft-famd-noout</th>\n",
       "      <td>0.0002</td>\n",
       "      <td>0.121098</td>\n",
       "      <td>0.624878</td>\n",
       "      <td>0.623604</td>\n",
       "      <td>0.080481</td>\n",
       "    </tr>\n",
       "    <tr>\n",
       "      <th>base-mr-dev-famd-noout</th>\n",
       "      <td>0.0002</td>\n",
       "      <td>0.121280</td>\n",
       "      <td>0.639253</td>\n",
       "      <td>0.636896</td>\n",
       "      <td>0.076769</td>\n",
       "    </tr>\n",
       "    <tr>\n",
       "      <th>full--dev-famd-noout</th>\n",
       "      <td>0.0002</td>\n",
       "      <td>0.192345</td>\n",
       "      <td>0.644411</td>\n",
       "      <td>0.626300</td>\n",
       "      <td>0.152638</td>\n",
       "    </tr>\n",
       "    <tr>\n",
       "      <th>full-m-dev-fa-noout</th>\n",
       "      <td>0.0004</td>\n",
       "      <td>0.149073</td>\n",
       "      <td>0.629520</td>\n",
       "      <td>0.629919</td>\n",
       "      <td>0.087121</td>\n",
       "    </tr>\n",
       "    <tr>\n",
       "      <th>full-m-devsoft-fa-noout</th>\n",
       "      <td>0.0002</td>\n",
       "      <td>0.116688</td>\n",
       "      <td>0.613760</td>\n",
       "      <td>0.615584</td>\n",
       "      <td>0.045791</td>\n",
       "    </tr>\n",
       "    <tr>\n",
       "      <th>full-m-devsoft-famd-noout</th>\n",
       "      <td>0.0002</td>\n",
       "      <td>0.133647</td>\n",
       "      <td>0.641915</td>\n",
       "      <td>0.642229</td>\n",
       "      <td>0.036502</td>\n",
       "    </tr>\n",
       "    <tr>\n",
       "      <th>full-r-dev-fa-noout</th>\n",
       "      <td>0.0002</td>\n",
       "      <td>0.151782</td>\n",
       "      <td>0.638677</td>\n",
       "      <td>0.638948</td>\n",
       "      <td>0.090304</td>\n",
       "    </tr>\n",
       "    <tr>\n",
       "      <th>full-r-dev-famd-noout</th>\n",
       "      <td>0.0002</td>\n",
       "      <td>0.213125</td>\n",
       "      <td>0.644793</td>\n",
       "      <td>0.621385</td>\n",
       "      <td>0.190832</td>\n",
       "    </tr>\n",
       "    <tr>\n",
       "      <th>full-r-devsoft-famd-noout</th>\n",
       "      <td>0.0006</td>\n",
       "      <td>0.109556</td>\n",
       "      <td>0.623695</td>\n",
       "      <td>0.622522</td>\n",
       "      <td>0.076886</td>\n",
       "    </tr>\n",
       "    <tr>\n",
       "      <th>full-mr-dev-fa-noout</th>\n",
       "      <td>0.0002</td>\n",
       "      <td>0.149373</td>\n",
       "      <td>0.624201</td>\n",
       "      <td>0.635532</td>\n",
       "      <td>0.098788</td>\n",
       "    </tr>\n",
       "    <tr>\n",
       "      <th>full-mr-devsoft-famd-noout</th>\n",
       "      <td>0.0004</td>\n",
       "      <td>0.106408</td>\n",
       "      <td>0.644359</td>\n",
       "      <td>0.645396</td>\n",
       "      <td>0.064306</td>\n",
       "    </tr>\n",
       "  </tbody>\n",
       "</table>\n",
       "</div>"
      ],
      "text/plain": [
       "                              p_SC        SC        FC      FCSC   SC_test\n",
       "base--dev-famd-noout        0.0002  0.139400  0.644033  0.635176  0.053478\n",
       "base-m-dev-famd-noout       0.0002  0.135782  0.644641  0.643323  0.064807\n",
       "base-r-dev-famd-noout       0.0002  0.144552  0.621997  0.605810  0.068373\n",
       "base-r-devsoft-famd-noout   0.0002  0.121098  0.624878  0.623604  0.080481\n",
       "base-mr-dev-famd-noout      0.0002  0.121280  0.639253  0.636896  0.076769\n",
       "full--dev-famd-noout        0.0002  0.192345  0.644411  0.626300  0.152638\n",
       "full-m-dev-fa-noout         0.0004  0.149073  0.629520  0.629919  0.087121\n",
       "full-m-devsoft-fa-noout     0.0002  0.116688  0.613760  0.615584  0.045791\n",
       "full-m-devsoft-famd-noout   0.0002  0.133647  0.641915  0.642229  0.036502\n",
       "full-r-dev-fa-noout         0.0002  0.151782  0.638677  0.638948  0.090304\n",
       "full-r-dev-famd-noout       0.0002  0.213125  0.644793  0.621385  0.190832\n",
       "full-r-devsoft-famd-noout   0.0006  0.109556  0.623695  0.622522  0.076886\n",
       "full-mr-dev-fa-noout        0.0002  0.149373  0.624201  0.635532  0.098788\n",
       "full-mr-devsoft-famd-noout  0.0004  0.106408  0.644359  0.645396  0.064306"
      ]
     },
     "execution_count": 22,
     "metadata": {},
     "output_type": "execute_result"
    }
   ],
   "source": [
    "significant"
   ]
  },
  {
   "cell_type": "markdown",
   "id": "e7f9e3a6-d29e-4b66-8691-800c82308759",
   "metadata": {},
   "source": [
    "---"
   ]
  },
  {
   "cell_type": "code",
   "execution_count": 52,
   "id": "862ee10f-6cf6-4794-b0a4-2beda3e7c761",
   "metadata": {},
   "outputs": [
    {
     "data": {
      "text/plain": [
       "Index(['dmri_dtifullfa_fiberat_fxrh', 'dmri_dtifullfa_fiberat_cgclh',\n",
       "       'dmri_dtifullfa_fiberat_atrrh', 'dmri_dtifullfa_fiberat_atrlh',\n",
       "       'dmri_dtifullfa_fiberat_unclh', 'dmri_dtifullfa_fiberat_ilflh',\n",
       "       'dmri_dtifullfa_fiberat_ifolh', 'dmri_dtifullfa_fiberat_fmin',\n",
       "       'dmri_dtifullfa_fiberat_fxcutrh', 'dmri_dtifullfa_fiberat_allfibers',\n",
       "       'dmri_dtifullfa_fiberat_allfccrh', 'dmri_dtifullfa_fiberat_allfcclh',\n",
       "       'dmri_dtifullfa_fiberat_allfibrh', 'dmri_dtifullfa_fiberat_allfiblh',\n",
       "       'dmri_dtifullmd_fiberat_fxrh', 'dmri_dtifullmd_fiberat_fxlh',\n",
       "       'dmri_dtifullmd_fiberat_fmaj', 'dmri_dtifullmd_fiberat_cc',\n",
       "       'dmri_dtifullmd_fiberat_fxcutrh', 'dmri_dtifullmd_fiberat_fxcutlh'],\n",
       "      dtype='object')"
      ]
     },
     "execution_count": 52,
     "metadata": {},
     "output_type": "execute_result"
    }
   ],
   "source": [
    "scon.columns[~np.isclose(scca_SC.x_weights_[:, 0], 0)]"
   ]
  },
  {
   "cell_type": "code",
   "execution_count": 54,
   "id": "0144fe40-c154-4d52-a092-d8608db6c696",
   "metadata": {},
   "outputs": [
    {
     "data": {
      "text/plain": [
       "Index(['rsfmri_c_ngd_ad_ngd_ad', 'rsfmri_c_ngd_ca_ngd_ca',\n",
       "       'rsfmri_c_ngd_dt_ngd_cgc', 'rsfmri_c_ngd_dt_ngd_dt',\n",
       "       'rsfmri_c_ngd_dla_ngd_dt', 'rsfmri_c_ngd_fo_ngd_cgc',\n",
       "       'rsfmri_c_ngd_fo_ngd_fo', 'rsfmri_c_ngd_rspltp_ngd_cgc',\n",
       "       'rsfmri_c_ngd_rspltp_ngd_dla', 'rsfmri_c_ngd_rspltp_ngd_rspltp',\n",
       "       'rsfmri_c_ngd_smh_ngd_ad', 'rsfmri_c_ngd_smh_ngd_smh',\n",
       "       'rsfmri_c_ngd_smm_ngd_ad', 'rsfmri_c_ngd_sa_ngd_rspltp',\n",
       "       'rsfmri_c_ngd_vta_ngd_ad', 'rsfmri_c_ngd_vta_ngd_dt',\n",
       "       'rsfmri_c_ngd_vta_ngd_smh'],\n",
       "      dtype='object')"
      ]
     },
     "execution_count": 54,
     "metadata": {},
     "output_type": "execute_result"
    }
   ],
   "source": [
    "fcon.columns[~np.isclose(scca_SC.y_weights_[:, 0], 0)]"
   ]
  }
 ],
 "metadata": {
  "kernelspec": {
   "display_name": "Python [conda env:StructFunc]",
   "language": "python",
   "name": "conda-env-StructFunc-py"
  },
  "language_info": {
   "codemirror_mode": {
    "name": "ipython",
    "version": 3
   },
   "file_extension": ".py",
   "mimetype": "text/x-python",
   "name": "python",
   "nbconvert_exporter": "python",
   "pygments_lexer": "ipython3",
   "version": "3.9.6"
  },
  "toc-autonumbering": true
 },
 "nbformat": 4,
 "nbformat_minor": 5
}
