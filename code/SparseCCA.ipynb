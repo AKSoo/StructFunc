{
 "cells": [
  {
   "cell_type": "code",
   "execution_count": 1,
   "id": "57ed9f65-3bd1-45f3-b370-48073ce0b1e1",
   "metadata": {},
   "outputs": [
    {
     "name": "stdout",
     "output_type": "stream",
     "text": [
      "/home/kimsin98/Adolescent/StructFunc\n"
     ]
    }
   ],
   "source": [
    "%cd .."
   ]
  },
  {
   "cell_type": "code",
   "execution_count": 2,
   "id": "78a9e56c-1973-4cce-9c11-0c33e4e3ead3",
   "metadata": {},
   "outputs": [],
   "source": [
    "import warnings\n",
    "warnings.simplefilter(action='ignore', category=FutureWarning)\n",
    "\n",
    "import numpy as np\n",
    "import pandas as pd\n",
    "idx = pd.IndexSlice\n",
    "SEED = 69\n",
    "\n",
    "import matplotlib.pyplot as plt\n",
    "import seaborn as sns\n",
    "sns.set_theme(style='ticks')\n",
    "colors = sns.color_palette()"
   ]
  },
  {
   "cell_type": "code",
   "execution_count": 3,
   "id": "da673d79-b8c3-45a6-97a5-3950e8d19727",
   "metadata": {},
   "outputs": [],
   "source": [
    "from scipy import stats\n",
    "import statsmodels.api as sm\n",
    "import joblib\n",
    "from utils import abcd, residual, permutation\n",
    "\n",
    "covariates = abcd.load_covariates(covars=['interview_age', 'sex', 'hisp'],\n",
    "                                  simple_race=True)"
   ]
  },
  {
   "cell_type": "code",
   "execution_count": 4,
   "id": "02027511-ddc6-442f-bd7a-ad2614cc0c66",
   "metadata": {},
   "outputs": [
    {
     "name": "stdout",
     "output_type": "stream",
     "text": [
      "3483 subjects\n"
     ]
    }
   ],
   "source": [
    "fcon, fc_extra = abcd.load_fcon(abcd.OUT_PATH / 'fcon-device-software.csv')\n",
    "scon, sc_extra = abcd.load_scon(abcd.OUT_PATH / 'scon-device-software.csv')\n",
    "\n",
    "fcon = abcd.filter_siblings(fcon.loc[fcon.index.intersection(scon.index)], random_state=SEED)\n",
    "fc_extra = fc_extra.loc[fcon.index]\n",
    "scon, sc_extra = scon.loc[fcon.index], sc_extra.loc[fcon.index]\n",
    "\n",
    "subs = fcon.index.get_level_values(0).unique()\n",
    "print(len(subs), 'subjects')"
   ]
  },
  {
   "cell_type": "markdown",
   "id": "227c5d49-8f1c-4e76-8016-d8f08ecdb894",
   "metadata": {},
   "source": [
    "# Preprocess\n",
    "\n",
    "dimension reduction ideas\n",
    "* genotype: PRS\n",
    "* phenotype: remove unbalanced features"
   ]
  },
  {
   "cell_type": "markdown",
   "id": "dcb35c1d-dd2d-414c-a118-31218ff50611",
   "metadata": {},
   "source": [
    "## Train-Test Split\n",
    "\n",
    "* 80-20"
   ]
  },
  {
   "cell_type": "code",
   "execution_count": 5,
   "id": "34a36a3a-08bc-44a4-9e27-27ea40b07ec2",
   "metadata": {},
   "outputs": [],
   "source": [
    "from sklearn.model_selection import train_test_split\n",
    "\n",
    "subs_train, subs_test = train_test_split(subs, test_size=.2, random_state=SEED)\n",
    "fc, fc_test = fcon.loc[subs_train], fcon.loc[subs_test]\n",
    "sc, sc_test = scon.loc[subs_train], scon.loc[subs_test]"
   ]
  },
  {
   "cell_type": "code",
   "execution_count": 6,
   "id": "946a6cc9-adce-4ac4-98d9-059120f8bfcb",
   "metadata": {},
   "outputs": [
    {
     "data": {
      "image/png": "[encoded data removed]",
      "text/plain": [
       "<Figure size 432x288 with 1 Axes>"
      ]
     },
     "metadata": {},
     "output_type": "display_data"
    }
   ],
   "source": [
    "sns.histplot(fc.to_numpy().ravel(), label='FC discovery',\n",
    "             stat='density', element='step', color=colors[0])\n",
    "sns.histplot(fc_test.to_numpy().ravel(), label='FC replication',\n",
    "             stat='density', element='step', color=colors[1])\n",
    "plt.legend()\n",
    "\n",
    "plt.show()"
   ]
  },
  {
   "cell_type": "code",
   "execution_count": 7,
   "id": "a3a06906-b500-46eb-9d30-e49540419db5",
   "metadata": {},
   "outputs": [
    {
     "data": {
      "image/png": "[encoded data removed]",
      "text/plain": [
       "<Figure size 432x288 with 1 Axes>"
      ]
     },
     "metadata": {},
     "output_type": "display_data"
    }
   ],
   "source": [
    "sns.histplot(sc.to_numpy().ravel(), label='SC discovery',\n",
    "             stat='density', element='step', color=colors[0])\n",
    "sns.histplot(sc_test.to_numpy().ravel(), label='SC replication',\n",
    "             stat='density', element='step', color=colors[1])\n",
    "plt.legend()\n",
    "\n",
    "plt.show()"
   ]
  },
  {
   "cell_type": "markdown",
   "id": "450d1759-8b8b-491e-91e9-d43b2575d0d6",
   "metadata": {},
   "source": [
    "## Remove outliers (MAD)\n",
    "\n",
    "* outlier: deviation > 3 MAD\n",
    "* exclude if >= 20% missing"
   ]
  },
  {
   "cell_type": "code",
   "execution_count": 8,
   "id": "61d6d025-c252-44bc-9436-824b31cad9f0",
   "metadata": {},
   "outputs": [],
   "source": [
    "fc_med, fc_mad = fc.median(axis=0), stats.median_abs_deviation(fc)\n",
    "sc_med, sc_mad = sc.median(axis=0), stats.median_abs_deviation(sc)\n",
    "\n",
    "fc_noout = fc.mask((fc - fc_med).abs().divide(fc_mad) > 3)\n",
    "sc_noout = sc.mask((sc - sc_med).abs().divide(sc_mad) > 3)"
   ]
  },
  {
   "cell_type": "code",
   "execution_count": 9,
   "id": "cc767fa6-adaa-4595-bb6b-9411f3f0fe2b",
   "metadata": {},
   "outputs": [],
   "source": [
    "mask_noout = ((fc_noout.notna().sum(axis=1) > fc_noout.shape[1] * .8)\n",
    "              & (sc_noout.notna().sum(axis=1) > sc_noout.shape[1] * .8))\n",
    "subs_noout = mask_noout.groupby(level=0).filter(lambda g: g.all()).index\n",
    "\n",
    "fc, sc = fc_noout.loc[subs_noout], sc_noout.loc[subs_noout]"
   ]
  },
  {
   "cell_type": "markdown",
   "id": "1e4b1752-a063-4d7f-a780-7237695c4734",
   "metadata": {},
   "source": [
    "## Regress out confounds"
   ]
  },
  {
   "cell_type": "code",
   "execution_count": 10,
   "id": "b9da6f28-f00c-4c14-b1da-3b9766bc1caf",
   "metadata": {},
   "outputs": [],
   "source": [
    "confounds = fc_extra[['meanmotion']].join(covariates[['sex', 'race', 'hisp']])\n",
    "fc = residual.residualize(fc, sm.OLS, confounds, n_procs=4)\n",
    "\n",
    "confounds = sc_extra[['meanmotion']].join(covariates[['sex', 'race', 'hisp']])\n",
    "sc = residual.residualize(sc, sm.OLS, confounds, n_procs=4)"
   ]
  },
  {
   "cell_type": "markdown",
   "id": "5aeae5a5-e640-48b6-ae5e-387341554cb4",
   "metadata": {},
   "source": [
    "## Input features"
   ]
  },
  {
   "cell_type": "code",
   "execution_count": 11,
   "id": "d15f3ee9-3234-4bae-95b5-4c10f8e99ae9",
   "metadata": {},
   "outputs": [],
   "source": [
    "age = covariates.loc[fc.index, 'interview_age'] / 12\n",
    "age_diff = age.groupby(level=0).diff().dropna().droplevel(1)"
   ]
  },
  {
   "cell_type": "code",
   "execution_count": 12,
   "id": "e2f8cb9c-850b-4350-bb45-4c8b119733d9",
   "metadata": {},
   "outputs": [],
   "source": [
    "dFC = (fc.groupby(level=0).diff().xs(abcd.EVENTS[1], level=1)\n",
    "       .divide(age_diff, axis=0))\n",
    "SC = sc.loc[idx[dFC.index, abcd.EVENTS[0]], :].droplevel(1)\n",
    "FC = fc.loc[idx[dFC.index, abcd.EVENTS[0]], :].droplevel(1)\n",
    "FCSC = FC.join(SC)"
   ]
  },
  {
   "cell_type": "markdown",
   "id": "746cbd4a-dbbc-4f72-b06f-b3bd5bc47593",
   "metadata": {},
   "source": [
    "## KNN Impute"
   ]
  },
  {
   "cell_type": "code",
   "execution_count": 13,
   "id": "029aa9e1-e6de-4802-b6c0-e0d6f3dd7c70",
   "metadata": {},
   "outputs": [],
   "source": [
    "from sklearn.impute import KNNImputer\n",
    "\n",
    "imputer = KNNImputer(n_neighbors=3)\n",
    "dFC = imputer.fit_transform(dFC)\n",
    "SC = imputer.fit_transform(SC)\n",
    "FC = imputer.fit_transform(FC)\n",
    "FCSC = imputer.fit_transform(FCSC)"
   ]
  },
  {
   "cell_type": "markdown",
   "id": "1dd6d75e-3fd6-4361-bba8-71df97c9b029",
   "metadata": {},
   "source": [
    "# Sparse CCA"
   ]
  },
  {
   "cell_type": "code",
   "execution_count": 14,
   "id": "cd70d457-86ec-4d65-aa9e-89c1340271ab",
   "metadata": {},
   "outputs": [],
   "source": [
    "from gemmr.estimators import SparseCCA"
   ]
  },
  {
   "cell_type": "code",
   "execution_count": 15,
   "id": "ac4201e3-5b13-444a-8aa1-917aa786ebc3",
   "metadata": {},
   "outputs": [
    {
     "name": "stderr",
     "output_type": "stream",
     "text": [
      "/home/kimsin98/mambaforge/envs/StructFunc/lib/python3.9/site-packages/gemmr/estimators/r_estimators.py:139: UserWarning: More than 1 mode selected: NOT TESTED\n",
      "  warnings.warn('More than 1 mode selected: NOT TESTED')\n"
     ]
    },
    {
     "name": "stdout",
     "output_type": "stream",
     "text": [
      "[SparseCCA] penalties = [0.4 0.4]\n",
      "[0.13382346 0.13228717 0.12641457 0.1220372  0.121838   0.11644081\n",
      " 0.11203999 0.10675007 0.09910173 0.09534623]\n"
     ]
    }
   ],
   "source": [
    "scca_SC = SparseCCA(n_components=10, scale=True, verbose=True)\n",
    "\n",
    "scca_SC.fit(SC, dFC)\n",
    "joblib.dump(scca_SC, abcd.OUT_PATH / 'scca_SC.joblib')\n",
    "print(np.flip(np.sort(scca_SC.corrs_)))"
   ]
  },
  {
   "cell_type": "code",
   "execution_count": 16,
   "id": "ce8316c8-aaa7-4d8d-ba14-11508ce58c78",
   "metadata": {},
   "outputs": [
    {
     "name": "stderr",
     "output_type": "stream",
     "text": [
      "/home/kimsin98/mambaforge/envs/StructFunc/lib/python3.9/site-packages/gemmr/estimators/r_estimators.py:139: UserWarning: More than 1 mode selected: NOT TESTED\n",
      "  warnings.warn('More than 1 mode selected: NOT TESTED')\n"
     ]
    },
    {
     "name": "stdout",
     "output_type": "stream",
     "text": [
      "[SparseCCA] penalties = [0. 0.]\n",
      "[0.62604476 0.62232562 0.61896574 0.60757692 0.58975517 0.58761892\n",
      " 0.58347464 0.57737396 0.57526909 0.5743673 ]\n"
     ]
    }
   ],
   "source": [
    "scca_FC = SparseCCA(n_components=10, scale=True, verbose=True)\n",
    "\n",
    "scca_FC.fit(FC, dFC)\n",
    "joblib.dump(scca_FC, abcd.OUT_PATH / 'scca_FC.joblib')\n",
    "print(np.flip(np.sort(scca_FC.corrs_)))"
   ]
  },
  {
   "cell_type": "code",
   "execution_count": 17,
   "id": "6ec3265d-8fd6-4f37-a639-8646b073cd29",
   "metadata": {},
   "outputs": [
    {
     "name": "stderr",
     "output_type": "stream",
     "text": [
      "/home/kimsin98/mambaforge/envs/StructFunc/lib/python3.9/site-packages/gemmr/estimators/r_estimators.py:139: UserWarning: More than 1 mode selected: NOT TESTED\n",
      "  warnings.warn('More than 1 mode selected: NOT TESTED')\n"
     ]
    },
    {
     "name": "stdout",
     "output_type": "stream",
     "text": [
      "[SparseCCA] penalties = [0. 0.]\n",
      "[0.62444286 0.6229708  0.60863383 0.58954308 0.58658355 0.58288995\n",
      " 0.57785268 0.57747834 0.57543425 0.573014  ]\n"
     ]
    }
   ],
   "source": [
    "scca_FCSC = SparseCCA(n_components=10, scale=True, verbose=True)\n",
    "\n",
    "scca_FCSC.fit(FCSC, dFC)\n",
    "joblib.dump(scca_FCSC, abcd.OUT_PATH / 'scca_FCSC.joblib')\n",
    "print(np.flip(np.sort(scca_FCSC.corrs_)))"
   ]
  },
  {
   "cell_type": "markdown",
   "id": "2e1dcc9a-bce3-4318-af3c-a90964428830",
   "metadata": {},
   "source": [
    "## Permutation Test"
   ]
  },
  {
   "cell_type": "code",
   "execution_count": 29,
   "id": "79abd54f-70bf-4f55-8b06-ab50a95fe1cb",
   "metadata": {},
   "outputs": [],
   "source": [
    "def quick_scca(X, Y):\n",
    "    scca = SparseCCA(scale=True, optimize_penalties=False,\n",
    "                     penaltyxs=scca_SC.penaltyx_, penaltyys=scca_SC.penaltyy_)\n",
    "    scca.fit(X, Y)\n",
    "    return scca.corrs_[0]\n",
    "\n",
    "corr_distrib = permutation.permute_func(quick_scca, SC, dFC,\n",
    "                                        random_state=SEED, n_procs=4)"
   ]
  },
  {
   "cell_type": "code",
   "execution_count": 42,
   "id": "8de75ca8-3305-4c18-b8f2-f8d76b76db09",
   "metadata": {},
   "outputs": [
    {
     "name": "stdout",
     "output_type": "stream",
     "text": [
      "p = 0.29\n"
     ]
    },
    {
     "data": {
      "image/png": "[encoded data removed]",
      "text/plain": [
       "<Figure size 432x288 with 1 Axes>"
      ]
     },
     "metadata": {},
     "output_type": "display_data"
    }
   ],
   "source": [
    "print('p =', ((corr_distrib >= scca_SC.corrs_.max()).sum() + 1) / (len(corr_distrib) + 1))\n",
    "\n",
    "ax = sns.histplot(corr_distrib, stat='density', element='step')\n",
    "ax.axvline(x=scca_SC.corrs_.max())\n",
    "ax.set_title('SC ~ dFC association')\n",
    "plt.show()"
   ]
  },
  {
   "cell_type": "code",
   "execution_count": 44,
   "id": "24f18aad-a962-4864-a413-bbaf6ef53cd0",
   "metadata": {},
   "outputs": [],
   "source": [
    "def quick_scca(X, Y):\n",
    "    scca = SparseCCA(scale=True, optimize_penalties=False,\n",
    "                     penaltyxs=scca_FC.penaltyx_, penaltyys=scca_FC.penaltyy_)\n",
    "    scca.fit(X, Y)\n",
    "    return scca.corrs_[0]\n",
    "\n",
    "corr_distrib = permutation.permute_func(quick_scca, FC, dFC,\n",
    "                                        random_state=SEED, n_procs=4)"
   ]
  },
  {
   "cell_type": "code",
   "execution_count": 45,
   "id": "4f3ec608-fd6b-4fdc-9678-73c326db85fb",
   "metadata": {},
   "outputs": [
    {
     "name": "stdout",
     "output_type": "stream",
     "text": [
      "p = 0.01\n"
     ]
    },
    {
     "data": {
      "image/png": "[encoded data removed]",
      "text/plain": [
       "<Figure size 432x288 with 1 Axes>"
      ]
     },
     "metadata": {},
     "output_type": "display_data"
    }
   ],
   "source": [
    "print('p =', ((corr_distrib >= scca_FC.corrs_.max()).sum() + 1) / (len(corr_distrib) + 1))\n",
    "\n",
    "ax = sns.histplot(corr_distrib, stat='density', element='step')\n",
    "ax.axvline(x=scca_FC.corrs_.max())\n",
    "ax.set_title('FC ~ dFC association')\n",
    "plt.show()"
   ]
  }
 ],
 "metadata": {
  "kernelspec": {
   "display_name": "Python [conda env:StructFunc]",
   "language": "python",
   "name": "conda-env-StructFunc-py"
  },
  "language_info": {
   "codemirror_mode": {
    "name": "ipython",
    "version": 3
   },
   "file_extension": ".py",
   "mimetype": "text/x-python",
   "name": "python",
   "nbconvert_exporter": "python",
   "pygments_lexer": "ipython3",
   "version": "3.9.6"
  },
  "toc-autonumbering": true
 },
 "nbformat": 4,
 "nbformat_minor": 5
}
