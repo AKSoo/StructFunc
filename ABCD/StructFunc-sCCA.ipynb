{
 "cells": [
  {
   "cell_type": "code",
   "execution_count": 1,
   "id": "abba644e-bebb-4d99-9819-d14ca2bf2a36",
   "metadata": {},
   "outputs": [],
   "source": [
    "import os\n",
    "import numpy as np\n",
    "import pandas as pd\n",
    "idx = pd.IndexSlice\n",
    "\n",
    "import matplotlib.pyplot as plt\n",
    "import seaborn as sns\n",
    "sns.set_theme()\n",
    "\n",
    "from scipy import stats\n",
    "SEED = 69\n",
    "\n",
    "ABCD_PATH = '../../ABCD'\n",
    "IDENTIFIERS = ['src_subject_id', 'eventname']\n",
    "EVENTS = ['baseline_year_1_arm_1', '2_year_follow_up_y_arm_1']\n",
    "\n",
    "FCON_TEMPLATE = 'rsfmri_c_ngd_{0}_ngd_{1}'\n",
    "FCON = {\n",
    "    'ad': 'auditory',\n",
    "    'cgc': 'cingulo-opercular',\n",
    "    'ca': 'cingulo-parietal',\n",
    "    'dt': 'default',\n",
    "    'dla': 'dorsal attention',\n",
    "    'fo': 'fronto-parietal',\n",
    "    'n': None,\n",
    "    'rspltp': 'retrosplenial temporal',\n",
    "    'smh': 'sensorimotor hand',\n",
    "    'smm': 'sensorimotor mouth',\n",
    "    'sa': 'salience',\n",
    "    'vta': 'ventral attention',\n",
    "    'vs': 'visual'\n",
    "}\n",
    "\n",
    "SCON_TEMPLATE = 'dmri_dtifa_fiberat_{0}'"
   ]
  },
  {
   "cell_type": "code",
   "execution_count": 2,
   "id": "1a0770cf-ceab-45b6-be07-65a8ded7fabf",
   "metadata": {},
   "outputs": [],
   "source": [
    "betnet = pd.read_csv(os.path.join(ABCD_PATH, 'abcd_betnet02.tsv'), sep='\\t',\n",
    "                     skiprows=[1], index_col=IDENTIFIERS)\n",
    "dti = pd.read_csv(os.path.join(ABCD_PATH, 'abcd_dti_p101.tsv'), sep='\\t',\n",
    "                  skiprows=[1], index_col=IDENTIFIERS)\n",
    "\n",
    "inclusion = pd.read_csv(os.path.join(ABCD_PATH, 'abcd_imgincl01.tsv'), sep='\\t',\n",
    "                        skiprows=[1], index_col=IDENTIFIERS)\n",
    "inclusion.dropna(subset=['visit'], inplace=True)\n",
    "inclusion = inclusion.loc[~inclusion.index.duplicated(keep='last')]\n",
    "\n",
    "covariates = pd.read_csv('output/abcd_covariates.csv', index_col=IDENTIFIERS)"
   ]
  },
  {
   "cell_type": "code",
   "execution_count": 3,
   "id": "3c95088d-d98a-4a84-8db3-eaee28a68241",
   "metadata": {},
   "outputs": [],
   "source": [
    "include = inclusion.loc[(inclusion['imgincl_rsfmri_include'] == 1) &\n",
    "                        (inclusion['imgincl_dmri_include'] == 1)]\n",
    "subs_long = [sub for sub, df in include.groupby(level='src_subject_id') if len(df) == 2]"
   ]
  },
  {
   "cell_type": "code",
   "execution_count": 4,
   "id": "be6f34b6-263f-4828-99ab-8c129b84ab76",
   "metadata": {},
   "outputs": [],
   "source": [
    "fcon_codes = [n for n, name in FCON.items() if name is not None]\n",
    "fcon_columns = []\n",
    "for i in range(len(fcon_codes)):\n",
    "    for j in range(i+1):\n",
    "        fcon_columns.append(FCON_TEMPLATE.format(fcon_codes[i], fcon_codes[j]))\n",
    "\n",
    "fcon = betnet.loc[idx[subs_long, EVENTS], fcon_columns]"
   ]
  },
  {
   "cell_type": "code",
   "execution_count": 5,
   "id": "318f0ba8-270e-4353-b18a-e0e9442968df",
   "metadata": {},
   "outputs": [],
   "source": [
    "scon_column_filter = dti.columns.str.startswith(SCON_TEMPLATE.format(''))\n",
    "\n",
    "scon = dti.loc[idx[subs_long, EVENTS], scon_column_filter]"
   ]
  },
  {
   "cell_type": "markdown",
   "id": "227c5d49-8f1c-4e76-8016-d8f08ecdb894",
   "metadata": {},
   "source": [
    "# Preprocess"
   ]
  },
  {
   "cell_type": "code",
   "execution_count": 6,
   "id": "801b36f4-1eda-4fa5-953e-0b98a7f68c9d",
   "metadata": {},
   "outputs": [],
   "source": [
    "deltaFC = (fcon.groupby(level='src_subject_id')\n",
    "           .diff().dropna().droplevel('eventname'))\n",
    "\n",
    "age = covariates.loc[idx[deltaFC.index, EVENTS], 'interview_age'] / 12\n",
    "age_diff = (age.groupby(level='src_subject_id')\n",
    "            .diff().dropna().droplevel('eventname'))\n",
    "\n",
    "dFC = deltaFC.divide(age_diff, axis=0)"
   ]
  },
  {
   "cell_type": "code",
   "execution_count": 7,
   "id": "309193fb-ebd5-4e9e-8a44-3e64c9c1b4e9",
   "metadata": {},
   "outputs": [],
   "source": [
    "SC = scon.loc[idx[dFC.index, EVENTS[0]], :].droplevel('eventname')"
   ]
  },
  {
   "cell_type": "code",
   "execution_count": 8,
   "id": "28a78ed7-7da7-4e17-877d-a48e32194867",
   "metadata": {},
   "outputs": [],
   "source": [
    "family = covariates.loc[idx[SC.index, EVENTS[0]], 'rel_family_id']"
   ]
  },
  {
   "cell_type": "markdown",
   "id": "8fe07204-4cd5-4fa5-b1be-3e3f34463df0",
   "metadata": {},
   "source": [
    "## Split test sample"
   ]
  },
  {
   "cell_type": "code",
   "execution_count": 9,
   "id": "8c854bc8-8afd-4ba5-a0f6-185182a6cc7b",
   "metadata": {},
   "outputs": [],
   "source": [
    "from sklearn.model_selection import GroupShuffleSplit\n",
    "\n",
    "gss = GroupShuffleSplit(n_splits=1, test_size=.2, random_state=SEED)\n",
    "train, test = next(gss.split(SC, dFC, family))"
   ]
  },
  {
   "cell_type": "markdown",
   "id": "1e4b1752-a063-4d7f-a780-7237695c4734",
   "metadata": {},
   "source": [
    "## Regress out confounds"
   ]
  },
  {
   "cell_type": "code",
   "execution_count": null,
   "id": "47adc33e-9f1d-4970-94e1-19c7c8158f08",
   "metadata": {},
   "outputs": [],
   "source": [
    "fcon_confounds = (covariates.loc[idx[dFC.index, EVENTS], ['sex', 'race.6level', 'site_id']]\n",
    "                  .join(betnet['rsfmri_c_ngd_meanmotion'].rename('meanmotion')))\n",
    "scon_confounds = (covariates.loc[idx[SC.index, EVENTS], ['sex', 'race.6level', 'site_id']]\n",
    "                  .join(dti['dmri_dti_meanmotion'].rename('meanmotion')))"
   ]
  }
 ],
 "metadata": {
  "kernelspec": {
   "display_name": "Python [conda env:neuro]",
   "language": "python",
   "name": "conda-env-neuro-py"
  },
  "language_info": {
   "codemirror_mode": {
    "name": "ipython",
    "version": 3
   },
   "file_extension": ".py",
   "mimetype": "text/x-python",
   "name": "python",
   "nbconvert_exporter": "python",
   "pygments_lexer": "ipython3",
   "version": "3.9.2"
  }
 },
 "nbformat": 4,
 "nbformat_minor": 5
}
