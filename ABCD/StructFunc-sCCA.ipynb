{
 "cells": [
  {
   "cell_type": "code",
   "execution_count": 1,
   "id": "abba644e-bebb-4d99-9819-d14ca2bf2a36",
   "metadata": {},
   "outputs": [],
   "source": [
    "import os\n",
    "import numpy as np\n",
    "import pandas as pd\n",
    "idx = pd.IndexSlice\n",
    "\n",
    "import matplotlib.pyplot as plt\n",
    "import seaborn as sns\n",
    "sns.set_theme()\n",
    "colors = sns.color_palette()\n",
    "\n",
    "import joblib\n",
    "from scipy import stats\n",
    "import statsmodels.api as sm\n",
    "SEED = 69\n",
    "\n",
    "from utils import abcd, preprocess\n",
    "ABCD_PATH = '../../ABCD'"
   ]
  },
  {
   "cell_type": "code",
   "execution_count": 2,
   "id": "1a0770cf-ceab-45b6-be07-65a8ded7fabf",
   "metadata": {},
   "outputs": [
    {
     "name": "stdout",
     "output_type": "stream",
     "text": [
      "3936 subjects\n"
     ]
    }
   ],
   "source": [
    "fcon, fc_extra = abcd.load_data(ABCD_PATH, 'fcon', include_rec=True, exclude_n=True)\n",
    "scon, sc_extra = abcd.load_data(ABCD_PATH, 'scon', include_rec=True)\n",
    "\n",
    "subs = fcon.index.intersection(scon.index).get_level_values(0).unique()\n",
    "print(len(subs), 'subjects')\n",
    "\n",
    "fcon = fcon.loc[subs]\n",
    "scon = scon.loc[subs]"
   ]
  },
  {
   "cell_type": "code",
   "execution_count": 3,
   "id": "3c95088d-d98a-4a84-8db3-eaee28a68241",
   "metadata": {},
   "outputs": [],
   "source": [
    "covariates = abcd.load_covariates('output/abcd_covariates.csv', simple_race=True)"
   ]
  },
  {
   "cell_type": "markdown",
   "id": "227c5d49-8f1c-4e76-8016-d8f08ecdb894",
   "metadata": {},
   "source": [
    "# Preprocess"
   ]
  },
  {
   "cell_type": "markdown",
   "id": "dcb35c1d-dd2d-414c-a118-31218ff50611",
   "metadata": {},
   "source": [
    "## Split replication sample"
   ]
  },
  {
   "cell_type": "code",
   "execution_count": 4,
   "id": "28a78ed7-7da7-4e17-877d-a48e32194867",
   "metadata": {},
   "outputs": [],
   "source": [
    "family = covariates.loc[idx[subs, abcd.EVENTS[1]], 'rel_family_id'].droplevel('eventname')"
   ]
  },
  {
   "cell_type": "code",
   "execution_count": 5,
   "id": "8c854bc8-8afd-4ba5-a0f6-185182a6cc7b",
   "metadata": {},
   "outputs": [],
   "source": [
    "from sklearn.model_selection import GroupShuffleSplit\n",
    "\n",
    "gss = GroupShuffleSplit(n_splits=1, test_size=.2, random_state=SEED)\n",
    "disc, repl = next(gss.split(subs, groups=family))"
   ]
  },
  {
   "cell_type": "code",
   "execution_count": 6,
   "id": "dc3708b9-c486-4141-937b-77ff87500b5a",
   "metadata": {},
   "outputs": [],
   "source": [
    "fc, fc_repl = fcon.loc[subs[disc]], fcon.loc[subs[repl]]\n",
    "sc, sc_repl = scon.loc[subs[disc]], scon.loc[subs[repl]]"
   ]
  },
  {
   "cell_type": "code",
   "execution_count": 7,
   "id": "946a6cc9-adce-4ac4-98d9-059120f8bfcb",
   "metadata": {},
   "outputs": [
    {
     "data": {
      "image/png": "[encoded data removed]",
      "text/plain": [
       "<Figure size 432x288 with 1 Axes>"
      ]
     },
     "metadata": {},
     "output_type": "display_data"
    }
   ],
   "source": [
    "sns.histplot(fc.to_numpy().ravel(), label='FC discovery',\n",
    "             stat='density', element='step', color=colors[0])\n",
    "sns.histplot(fc_repl.to_numpy().ravel(), label='FC replication',\n",
    "             stat='density', element='step', color=colors[1])\n",
    "plt.legend()\n",
    "\n",
    "plt.show()"
   ]
  },
  {
   "cell_type": "code",
   "execution_count": 8,
   "id": "a3a06906-b500-46eb-9d30-e49540419db5",
   "metadata": {},
   "outputs": [
    {
     "data": {
      "image/png": "[encoded data removed]",
      "text/plain": [
       "<Figure size 432x288 with 1 Axes>"
      ]
     },
     "metadata": {},
     "output_type": "display_data"
    }
   ],
   "source": [
    "sns.histplot(sc.to_numpy().ravel(), label='SC discovery',\n",
    "             stat='density', element='step', color=colors[0])\n",
    "sns.histplot(sc_repl.to_numpy().ravel(), label='SC replication',\n",
    "             stat='density', element='step', color=colors[1])\n",
    "plt.legend()\n",
    "\n",
    "plt.show()"
   ]
  },
  {
   "cell_type": "markdown",
   "id": "450d1759-8b8b-491e-91e9-d43b2575d0d6",
   "metadata": {},
   "source": [
    "## Remove outliers (MAD)"
   ]
  },
  {
   "cell_type": "code",
   "execution_count": 9,
   "id": "95e316b1-5c66-45cd-9b08-4eadc983cd78",
   "metadata": {},
   "outputs": [],
   "source": [
    "fc_mad = stats.median_abs_deviation(fc, nan_policy='omit')\n",
    "fc_med = fc.median(axis=0)\n",
    "\n",
    "sc_mad = stats.median_abs_deviation(sc, nan_policy='omit')\n",
    "sc_med = sc.median(axis=0)"
   ]
  },
  {
   "cell_type": "code",
   "execution_count": 10,
   "id": "b7e384bf-68a8-43e0-a4fa-9e364c91b2fc",
   "metadata": {},
   "outputs": [],
   "source": [
    "fc_noout = fc.mask((fc - fc_med).abs().divide(fc_mad) > 3)\n",
    "fc_noout = fc_noout.loc[fc_noout.notna().sum(axis=1) > fc_noout.shape[1] * .8]\n",
    "fc_noout = fc_noout.loc[:, fc_noout.notna().sum(axis=0) > fc_noout.shape[0] * .8]"
   ]
  },
  {
   "cell_type": "code",
   "execution_count": 11,
   "id": "4be3d42f-5708-4acd-9dca-69ba5d885958",
   "metadata": {},
   "outputs": [],
   "source": [
    "sc_noout = sc.mask((sc - sc_med).abs().divide(sc_mad) > 3)\n",
    "sc_noout = sc_noout.loc[sc_noout.notna().sum(axis=1) > sc_noout.shape[1] * .8]\n",
    "sc_noout = sc_noout.loc[:, sc_noout.notna().sum(axis=0) > sc_noout.shape[0] * .8]"
   ]
  },
  {
   "cell_type": "markdown",
   "id": "1e4b1752-a063-4d7f-a780-7237695c4734",
   "metadata": {},
   "source": [
    "## Regress out confounds"
   ]
  },
  {
   "cell_type": "code",
   "execution_count": 12,
   "id": "47adc33e-9f1d-4970-94e1-19c7c8158f08",
   "metadata": {},
   "outputs": [],
   "source": [
    "fc_confounds = (covariates.loc[fcon.index, ['sex', 'race', 'site_id']]\n",
    "                .join(fc_extra['rsfmri_c_ngd_meanmotion'].rename('meanmotion')))\n",
    "sc_confounds = (covariates.loc[scon.index, ['sex', 'race', 'site_id']]\n",
    "                .join(sc_extra['dmri_dti_meanmotion'].rename('meanmotion')))"
   ]
  },
  {
   "cell_type": "code",
   "execution_count": 13,
   "id": "06044a69-4beb-4397-9a39-f379cc361c85",
   "metadata": {},
   "outputs": [
    {
     "data": {
      "application/vnd.jupyter.widget-view+json": {
       "model_id": "b70b2fce282348538864309fb5edd11c",
       "version_major": 2,
       "version_minor": 0
      },
      "text/plain": [
       "  0%|          | 0/40 [00:00<?, ?it/s]"
      ]
     },
     "metadata": {},
     "output_type": "display_data"
    },
    {
     "data": {
      "application/vnd.jupyter.widget-view+json": {
       "model_id": "a253ffa24d9c4f5f92ce8ca0cd6f3ef4",
       "version_major": 2,
       "version_minor": 0
      },
      "text/plain": [
       "  0%|          | 0/40 [00:00<?, ?it/s]"
      ]
     },
     "metadata": {},
     "output_type": "display_data"
    }
   ],
   "source": [
    "# WARNING: LONG\n",
    "\n",
    "# import warnings\n",
    "# import statsmodels.api as sm\n",
    "# import mapply\n",
    "# mapply.init(n_workers=4, chunk_size=1, progressbar=True)\n",
    "\n",
    "# with warnings.catch_warnings():\n",
    "#     warnings.simplefilter('ignore', sm.tools.sm_exceptions.ConvergenceWarning)\n",
    "#     fc_noout_control = fc_noout.mapply(\n",
    "#         preprocess.confound_residuals, model=sm.MixedLM,\n",
    "#         regressors=fc_confounds.loc[fc_noout.index, ['sex', 'race', 'meanmotion']],\n",
    "#         groups=fc_confounds.loc[fc_noout.index, 'site_id'],\n",
    "#         method=['bfgs', 'cg', 'nm']\n",
    "#     )\n",
    "#     sc_noout_control = sc_noout.mapply(\n",
    "#         preprocess.confound_residuals, model=sm.MixedLM,\n",
    "#         regressors=sc_confounds.loc[sc_noout.index, ['sex', 'race', 'meanmotion']],\n",
    "#         groups=sc_confounds.loc[sc_noout.index, 'site_id'],\n",
    "#         method=['bfgs', 'cg', 'nm']\n",
    "#     )\n",
    "\n",
    "# fc_noout_control.to_pickle('.cache/fc_noout_control.pkl.gz')\n",
    "# sc_noout_control.to_pickle('.cache/sc_noout_control.pkl.gz')\n",
    "fc_noout_control = pd.read_pickle('.cache/fc_noout_control.pkl.gz')\n",
    "sc_noout_control = pd.read_pickle('.cache/sc_noout_control.pkl.gz')"
   ]
  },
  {
   "cell_type": "markdown",
   "id": "5aeae5a5-e640-48b6-ae5e-387341554cb4",
   "metadata": {},
   "source": [
    "## Input features"
   ]
  },
  {
   "cell_type": "code",
   "execution_count": 14,
   "id": "cb5ec1db-d2a3-4f93-852e-4da0a335c401",
   "metadata": {},
   "outputs": [],
   "source": [
    "age = covariates.loc[fc_noout_control.index, 'interview_age'] / 12\n",
    "age_diff = age.groupby(level=0).diff().dropna().droplevel('eventname')\n",
    "\n",
    "dFC = (fc_noout_control.groupby(level=0)\n",
    "       .diff().xs(abcd.EVENTS[1], level='eventname').loc[age_diff.index]\n",
    "       .divide(age_diff, axis=0))"
   ]
  },
  {
   "cell_type": "code",
   "execution_count": 15,
   "id": "75a1155f-6f89-4518-908c-886b5767d377",
   "metadata": {},
   "outputs": [],
   "source": [
    "SC = sc_noout_control.loc[idx[dFC.index, abcd.EVENTS[0]], :].droplevel('eventname')\n",
    "FC = fc_noout_control.loc[idx[SC.index, abcd.EVENTS[0]], :].droplevel('eventname')\n",
    "X = FC.join(SC)\n",
    "\n",
    "dFC = dFC.loc[X.index]\n",
    "groups = family.loc[dFC.index]"
   ]
  },
  {
   "cell_type": "markdown",
   "id": "746cbd4a-dbbc-4f72-b06f-b3bd5bc47593",
   "metadata": {},
   "source": [
    "## KNN Impute"
   ]
  },
  {
   "cell_type": "code",
   "execution_count": 16,
   "id": "b00ee92f-55a4-4a5e-abcb-0454d6629f1a",
   "metadata": {},
   "outputs": [],
   "source": [
    "from sklearn.impute import KNNImputer"
   ]
  },
  {
   "cell_type": "code",
   "execution_count": 17,
   "id": "029aa9e1-e6de-4802-b6c0-e0d6f3dd7c70",
   "metadata": {},
   "outputs": [],
   "source": [
    "imputer = KNNImputer(n_neighbors=3)\n",
    "\n",
    "dFC = imputer.fit_transform(dFC)\n",
    "SC = imputer.fit_transform(SC)\n",
    "FC = imputer.fit_transform(FC)\n",
    "X = imputer.fit_transform(X)"
   ]
  },
  {
   "cell_type": "markdown",
   "id": "1dd6d75e-3fd6-4361-bba8-71df97c9b029",
   "metadata": {},
   "source": [
    "# Sparse CCA"
   ]
  },
  {
   "cell_type": "code",
   "execution_count": 18,
   "id": "cd70d457-86ec-4d65-aa9e-89c1340271ab",
   "metadata": {},
   "outputs": [],
   "source": [
    "from gemmr.estimators import SparseCCA\n",
    "from sklearn.model_selection import GroupKFold"
   ]
  },
  {
   "cell_type": "code",
   "execution_count": 19,
   "id": "6348b2e5-cb91-4cf1-b670-1a56700c20c8",
   "metadata": {
    "tags": []
   },
   "outputs": [
    {
     "name": "stderr",
     "output_type": "stream",
     "text": [
      "/home/kimsin98/miniconda3/envs/neuro/lib/python3.9/site-packages/gemmr/estimators/r_estimators.py:139: UserWarning: More than 1 mode selected: NOT TESTED\n",
      "  warnings.warn('More than 1 mode selected: NOT TESTED')\n"
     ]
    },
    {
     "name": "stdout",
     "output_type": "stream",
     "text": [
      "[SparseCCA] penalties = [0. 1.]\n",
      "Score Correlations: [0.14774373 0.14648403 0.12664582 0.1244605  0.13201853 0.1398192\n",
      " 0.16546519 0.14412951 0.12962627 0.12934806]\n"
     ]
    }
   ],
   "source": [
    "scca_SC = SparseCCA(n_components=10, scale=True, cv=GroupKFold(),\n",
    "                    niter=200, verbose=True)\n",
    "\n",
    "scca_SC.fit(SC, dFC, groups=groups)\n",
    "joblib.dump(scca_SC, '.cache/scca_SC.joblib')\n",
    "\n",
    "print('Score Correlations:', scca_SC.corrs_)"
   ]
  },
  {
   "cell_type": "code",
   "execution_count": 20,
   "id": "ce8316c8-aaa7-4d8d-ba14-11508ce58c78",
   "metadata": {},
   "outputs": [
    {
     "name": "stderr",
     "output_type": "stream",
     "text": [
      "/home/kimsin98/miniconda3/envs/neuro/lib/python3.9/site-packages/gemmr/estimators/r_estimators.py:139: UserWarning: More than 1 mode selected: NOT TESTED\n",
      "  warnings.warn('More than 1 mode selected: NOT TESTED')\n"
     ]
    },
    {
     "name": "stdout",
     "output_type": "stream",
     "text": [
      "[SparseCCA] penalties = [0.2 0.2]\n",
      "Score Correlations: [0.62620647 0.6083843  0.59560934 0.5578123  0.61448159 0.61802378\n",
      " 0.6215872  0.54606619 0.57483706 0.62304469]\n"
     ]
    }
   ],
   "source": [
    "scca_FC = SparseCCA(n_components=10, scale=True, cv=GroupKFold(),\n",
    "                    niter=200, verbose=True)\n",
    "\n",
    "scca_FC.fit(FC, dFC, groups=groups)\n",
    "joblib.dump(scca_FC, '.cache/scca_FC.joblib')\n",
    "\n",
    "print('Score Correlations:', scca_FC.corrs_)"
   ]
  },
  {
   "cell_type": "code",
   "execution_count": 21,
   "id": "6ec3265d-8fd6-4f37-a639-8646b073cd29",
   "metadata": {},
   "outputs": [
    {
     "name": "stderr",
     "output_type": "stream",
     "text": [
      "/home/kimsin98/miniconda3/envs/neuro/lib/python3.9/site-packages/gemmr/estimators/r_estimators.py:139: UserWarning: More than 1 mode selected: NOT TESTED\n",
      "  warnings.warn('More than 1 mode selected: NOT TESTED')\n"
     ]
    },
    {
     "name": "stdout",
     "output_type": "stream",
     "text": [
      "[SparseCCA] penalties = [0.2 0.2]\n",
      "Score Correlations: [0.61759173 0.59754503 0.59066383 0.55464491 0.60716904 0.60687563\n",
      " 0.61343807 0.53644504 0.57550455 0.61425196]\n"
     ]
    }
   ],
   "source": [
    "scca_X = SparseCCA(n_components=10, scale=True, cv=GroupKFold(),\n",
    "                   niter=200, verbose=True)\n",
    "\n",
    "scca_X.fit(X, dFC, groups=groups)\n",
    "joblib.dump(scca_X, '.cache/scca_X.joblib')\n",
    "\n",
    "print('Score Correlations:', scca_X.corrs_)"
   ]
  }
 ],
 "metadata": {
  "kernelspec": {
   "display_name": "Python [conda env:neuro]",
   "language": "python",
   "name": "conda-env-neuro-py"
  },
  "language_info": {
   "codemirror_mode": {
    "name": "ipython",
    "version": 3
   },
   "file_extension": ".py",
   "mimetype": "text/x-python",
   "name": "python",
   "nbconvert_exporter": "python",
   "pygments_lexer": "ipython3",
   "version": "3.9.2"
  },
  "toc-autonumbering": true
 },
 "nbformat": 4,
 "nbformat_minor": 5
}
