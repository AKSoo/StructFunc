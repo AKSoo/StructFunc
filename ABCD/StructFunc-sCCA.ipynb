{
 "cells": [
  {
   "cell_type": "code",
   "execution_count": 1,
   "id": "abba644e-bebb-4d99-9819-d14ca2bf2a36",
   "metadata": {},
   "outputs": [],
   "source": [
    "import os\n",
    "import numpy as np\n",
    "import pandas as pd\n",
    "idx = pd.IndexSlice\n",
    "\n",
    "import matplotlib.pyplot as plt\n",
    "import seaborn as sns\n",
    "sns.set_theme()\n",
    "colors = sns.color_palette()\n",
    "\n",
    "import joblib\n",
    "import statsmodels.api as sm\n",
    "SEED = 69\n",
    "\n",
    "from utils import abcd, preprocess\n",
    "ABCD_PATH = '../../ABCD'"
   ]
  },
  {
   "cell_type": "code",
   "execution_count": 2,
   "id": "1a0770cf-ceab-45b6-be07-65a8ded7fabf",
   "metadata": {},
   "outputs": [
    {
     "name": "stdout",
     "output_type": "stream",
     "text": [
      "3925 subjects\n"
     ]
    }
   ],
   "source": [
    "fcon, fc_extra = abcd.load_data(ABCD_PATH, 'fcon', dropna=True, include_rec=True, exclude_n=True)\n",
    "scon, sc_extra = abcd.load_data(ABCD_PATH, 'scon', dropna=True, include_rec=True)\n",
    "\n",
    "subs = fcon.index.intersection(scon.index).get_level_values(0).unique()\n",
    "print(len(subs), 'subjects')\n",
    "\n",
    "fcon = fcon.loc[subs]\n",
    "scon = scon.loc[subs]"
   ]
  },
  {
   "cell_type": "code",
   "execution_count": 3,
   "id": "3c95088d-d98a-4a84-8db3-eaee28a68241",
   "metadata": {},
   "outputs": [],
   "source": [
    "covariates = abcd.load_covariates('output/abcd_covariates.csv', simple_race=True)"
   ]
  },
  {
   "cell_type": "markdown",
   "id": "227c5d49-8f1c-4e76-8016-d8f08ecdb894",
   "metadata": {},
   "source": [
    "# Preprocess"
   ]
  },
  {
   "cell_type": "markdown",
   "id": "dcb35c1d-dd2d-414c-a118-31218ff50611",
   "metadata": {},
   "source": [
    "## Split replication sample"
   ]
  },
  {
   "cell_type": "code",
   "execution_count": 4,
   "id": "28a78ed7-7da7-4e17-877d-a48e32194867",
   "metadata": {},
   "outputs": [],
   "source": [
    "family = covariates.loc[idx[subs, abcd.EVENTS[0]], 'rel_family_id'].droplevel('eventname')"
   ]
  },
  {
   "cell_type": "code",
   "execution_count": 5,
   "id": "8c854bc8-8afd-4ba5-a0f6-185182a6cc7b",
   "metadata": {},
   "outputs": [],
   "source": [
    "from sklearn.model_selection import GroupShuffleSplit\n",
    "\n",
    "gss = GroupShuffleSplit(n_splits=1, test_size=.2, random_state=SEED)\n",
    "disc, repl = next(gss.split(subs, groups=family))"
   ]
  },
  {
   "cell_type": "code",
   "execution_count": 6,
   "id": "dc3708b9-c486-4141-937b-77ff87500b5a",
   "metadata": {},
   "outputs": [],
   "source": [
    "fc, fc_repl = fcon.loc[subs[disc]], fcon.loc[subs[repl]]\n",
    "sc, sc_repl = scon.loc[subs[disc]], scon.loc[subs[repl]]"
   ]
  },
  {
   "cell_type": "code",
   "execution_count": 7,
   "id": "946a6cc9-adce-4ac4-98d9-059120f8bfcb",
   "metadata": {},
   "outputs": [
    {
     "data": {
      "image/png": "[encoded data removed]",
      "text/plain": [
       "<Figure size 432x288 with 1 Axes>"
      ]
     },
     "metadata": {},
     "output_type": "display_data"
    }
   ],
   "source": [
    "sns.histplot(fc.to_numpy().ravel(), label='FC discovery',\n",
    "             stat='density', element='step', color=colors[0])\n",
    "sns.histplot(fc_repl.to_numpy().ravel(), label='FC replication',\n",
    "             stat='density', element='step', color=colors[1])\n",
    "plt.legend()\n",
    "\n",
    "plt.show()"
   ]
  },
  {
   "cell_type": "code",
   "execution_count": 8,
   "id": "a3a06906-b500-46eb-9d30-e49540419db5",
   "metadata": {},
   "outputs": [
    {
     "data": {
      "image/png": "[encoded data removed]",
      "text/plain": [
       "<Figure size 432x288 with 1 Axes>"
      ]
     },
     "metadata": {},
     "output_type": "display_data"
    }
   ],
   "source": [
    "sns.histplot(sc.to_numpy().ravel(), label='SC discovery',\n",
    "             stat='density', element='step', color=colors[0])\n",
    "sns.histplot(sc_repl.to_numpy().ravel(), label='SC replication',\n",
    "             stat='density', element='step', color=colors[1])\n",
    "plt.legend()\n",
    "\n",
    "plt.show()"
   ]
  },
  {
   "cell_type": "markdown",
   "id": "1e4b1752-a063-4d7f-a780-7237695c4734",
   "metadata": {},
   "source": [
    "## Regress out confounds"
   ]
  },
  {
   "cell_type": "code",
   "execution_count": 9,
   "id": "47adc33e-9f1d-4970-94e1-19c7c8158f08",
   "metadata": {},
   "outputs": [],
   "source": [
    "fc_confounds = (covariates.loc[fcon.index, ['sex', 'race', 'site_id']]\n",
    "                .join(fc_extra['rsfmri_c_ngd_meanmotion'].rename('meanmotion')))\n",
    "sc_confounds = (covariates.loc[scon.index, ['sex', 'race', 'site_id']]\n",
    "                .join(sc_extra['dmri_dti_meanmotion'].rename('meanmotion')))"
   ]
  },
  {
   "cell_type": "code",
   "execution_count": 10,
   "id": "06044a69-4beb-4397-9a39-f379cc361c85",
   "metadata": {},
   "outputs": [],
   "source": [
    "# WARNING: LONG\n",
    "\n",
    "# import warnings\n",
    "# import statsmodels.api as sm\n",
    "# import mapply\n",
    "# mapply.init(n_workers=4, chunk_size=1, progressbar=True)\n",
    "\n",
    "# with warnings.catch_warnings():\n",
    "#     warnings.simplefilter('ignore', sm.tools.sm_exceptions.ConvergenceWarning)\n",
    "#     fc_control = fc.mapply(preprocess.confound_residuals, model=sm.MixedLM,\n",
    "#                            regressors=fc_confounds.loc[fc.index, ['sex', 'race', 'meanmotion']],\n",
    "#                            groups=fc_confounds.loc[fc.index, 'site_id'],\n",
    "#                            method=['bfgs', 'cg', 'nm'])\n",
    "#     sc_control = sc.mapply(preprocess.confound_residuals, model=sm.MixedLM,\n",
    "#                            regressors=sc_confounds.loc[sc.index, ['sex', 'race', 'meanmotion']],\n",
    "#                            groups=sc_confounds.loc[sc.index, 'site_id'],\n",
    "#                            method=['bfgs', 'cg', 'nm'])\n",
    "\n",
    "# fc_control.to_pickle('.cache/fc_control.pkl.gz')\n",
    "# sc_control.to_pickle('.cache/sc_control.pkl.gz')\n",
    "fc_control = pd.read_pickle('.cache/fc_control.pkl.gz')\n",
    "sc_control = pd.read_pickle('.cache/sc_control.pkl.gz')"
   ]
  },
  {
   "cell_type": "code",
   "execution_count": 11,
   "id": "27dfce90-adeb-44f1-980a-89379aacd9c8",
   "metadata": {},
   "outputs": [],
   "source": [
    "age = covariates.loc[fc_control.index, 'interview_age'] / 12\n",
    "age_diff = (age.groupby(level=0)\n",
    "            .diff().dropna().droplevel('eventname'))\n",
    "\n",
    "dFC = (fc_control.groupby(level=0)\n",
    "       .diff().dropna().droplevel('eventname')\n",
    "       .divide(age_diff, axis=0))\n",
    "FC = fc_control.loc[idx[dFC.index, abcd.EVENTS[0]], :].droplevel('eventname')\n",
    "SC = sc_control.loc[idx[dFC.index, abcd.EVENTS[0]], :].droplevel('eventname')\n",
    "X = FC.join(SC)"
   ]
  },
  {
   "cell_type": "markdown",
   "id": "1dd6d75e-3fd6-4361-bba8-71df97c9b029",
   "metadata": {},
   "source": [
    "# Sparse CCA"
   ]
  },
  {
   "cell_type": "code",
   "execution_count": 12,
   "id": "cbf81634-4e1f-43e2-96b4-b2cd2205a998",
   "metadata": {},
   "outputs": [],
   "source": [
    "from gemmr.estimators import SparseCCA\n",
    "from sklearn.model_selection import GroupKFold"
   ]
  },
  {
   "cell_type": "code",
   "execution_count": 13,
   "id": "6348b2e5-cb91-4cf1-b670-1a56700c20c8",
   "metadata": {},
   "outputs": [
    {
     "name": "stderr",
     "output_type": "stream",
     "text": [
      "/home/kimsin98/miniconda3/envs/neuro/lib/python3.9/site-packages/gemmr/estimators/r_estimators.py:139: UserWarning: More than 1 mode selected: NOT TESTED\n",
      "  warnings.warn('More than 1 mode selected: NOT TESTED')\n"
     ]
    },
    {
     "name": "stdout",
     "output_type": "stream",
     "text": [
      "[SparseCCA] penalties = [0.  0.2]\n",
      "Score Correlations: [0.07101258 0.07529747 0.07138076 0.05831136 0.06353683 0.06987183\n",
      " 0.09267609 0.06486649 0.06695603 0.080993   0.06400069 0.08938156\n",
      " 0.07107209 0.06503493 0.06388681 0.05546204 0.06226206 0.05457132\n",
      " 0.04952131 0.07924429 0.07770379 0.06856698 0.05583442 0.06521732\n",
      " 0.08898771 0.0534181  0.07611091 0.05331076 0.04298087 0.05173023\n",
      " 0.06688501 0.05943585 0.07777237 0.06855379 0.05301959 0.05180479\n",
      " 0.04765638 0.05133891 0.04353921 0.06065624 0.06299906 0.06115923]\n"
     ]
    }
   ],
   "source": [
    "scca_SC = SparseCCA(n_components=SC.shape[1], scale=True, cv=GroupKFold(),\n",
    "                    niter=200, verbose=True)\n",
    "\n",
    "scca_SC.fit(SC, dFC, groups=family.loc[dFC.index])\n",
    "joblib.dump(scca_SC, '.cache/scca_SC.joblib')\n",
    "\n",
    "print('Score Correlations:', scca_SC.corrs_)"
   ]
  }
 ],
 "metadata": {
  "kernelspec": {
   "display_name": "Python [conda env:neuro]",
   "language": "python",
   "name": "conda-env-neuro-py"
  },
  "language_info": {
   "codemirror_mode": {
    "name": "ipython",
    "version": 3
   },
   "file_extension": ".py",
   "mimetype": "text/x-python",
   "name": "python",
   "nbconvert_exporter": "python",
   "pygments_lexer": "ipython3",
   "version": "3.9.2"
  },
  "toc-autonumbering": true
 },
 "nbformat": 4,
 "nbformat_minor": 5
}
