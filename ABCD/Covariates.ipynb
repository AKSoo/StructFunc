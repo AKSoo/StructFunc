{
 "cells": [
  {
   "cell_type": "code",
   "execution_count": 1,
   "id": "flush-antigua",
   "metadata": {},
   "outputs": [],
   "source": [
    "import numpy as np\n",
    "import pandas as pd\n",
    "import os\n",
    "\n",
    "from functools import reduce"
   ]
  },
  {
   "cell_type": "code",
   "execution_count": 2,
   "id": "transparent-pastor",
   "metadata": {},
   "outputs": [],
   "source": [
    "ABCD_PATH = '../../ABCD'\n",
    "IDENTIFIERS = ['src_subject_id', 'eventname']\n",
    "NA_VALUES = [777, 999]"
   ]
  },
  {
   "cell_type": "code",
   "execution_count": 3,
   "id": "prostate-jewel",
   "metadata": {},
   "outputs": [],
   "source": [
    "dem_long = pd.read_csv(os.path.join(ABCD_PATH, 'abcd_lpds01.tsv'), sep='\\t',\n",
    "                       skiprows=[1], index_col=IDENTIFIERS)\n",
    "dem_site = pd.read_csv(os.path.join(ABCD_PATH, 'abcd_lt01.tsv'), sep='\\t',\n",
    "                       skiprows=[1], index_col=IDENTIFIERS)\n",
    "dem_base = pd.read_csv(os.path.join(ABCD_PATH, 'pdem02.tsv'), sep='\\t',\n",
    "                       skiprows=[1], index_col=IDENTIFIERS)\n",
    "dem_acs = pd.read_csv(os.path.join(ABCD_PATH, 'acspsw03.tsv'), sep='\\t',\n",
    "                      skiprows=[1], index_col=IDENTIFIERS)"
   ]
  },
  {
   "cell_type": "markdown",
   "id": "biological-terror",
   "metadata": {},
   "source": [
    "# Combine"
   ]
  },
  {
   "cell_type": "code",
   "execution_count": 4,
   "id": "satisfactory-salvation",
   "metadata": {},
   "outputs": [],
   "source": [
    "covariates = dem_long[['interview_date', 'interview_age']].copy()"
   ]
  },
  {
   "cell_type": "code",
   "execution_count": 5,
   "id": "minor-forest",
   "metadata": {},
   "outputs": [],
   "source": [
    "covariates['sex'] = dem_long['sex'].astype('category')"
   ]
  },
  {
   "cell_type": "code",
   "execution_count": 6,
   "id": "first-blowing",
   "metadata": {},
   "outputs": [],
   "source": [
    "covariates['site_id'] = dem_site['site_id_l']"
   ]
  },
  {
   "cell_type": "code",
   "execution_count": 7,
   "id": "growing-april",
   "metadata": {},
   "outputs": [],
   "source": [
    "def combine_dems(dems, na_values=None):\n",
    "    combined = reduce(lambda l,r: l.combine_first(r), [\n",
    "        dem.replace(na_values, np.nan) for dem in dems\n",
    "    ])\n",
    "    return combined"
   ]
  },
  {
   "cell_type": "code",
   "execution_count": 8,
   "id": "computational-civilian",
   "metadata": {
    "tags": []
   },
   "outputs": [],
   "source": [
    "comb_income = combine_dems([dem_base['demo_comb_income_v2'], dem_long['demo_comb_income_v2_l']],\n",
    "                           na_values=NA_VALUES)\n",
    "\n",
    "def map_income_3level(x):\n",
    "    if x in np.arange(1,7):\n",
    "        return '[<50K]'\n",
    "    elif x in [7,8]:\n",
    "        return '[>=50K & <100K]'\n",
    "    elif x in [9,10]:\n",
    "        return '[>=100K]'\n",
    "    else:\n",
    "        return np.nan\n",
    "\n",
    "covariates['comb_income.3level'] = comb_income.apply(map_income_3level).astype('category')"
   ]
  },
  {
   "cell_type": "code",
   "execution_count": 9,
   "id": "individual-external",
   "metadata": {},
   "outputs": [],
   "source": [
    "prnt_ed = combine_dems([dem_base['demo_prnt_ed_v2'], dem_long['demo_prnt_ed_v2_l'],\n",
    "                        dem_long['demo_prnt_ed_v2_2yr_l']],\n",
    "                       na_values=NA_VALUES)\n",
    "prtnr_ed = combine_dems([dem_base['demo_prtnr_ed_v2'], dem_long['demo_prtnr_ed_v2_l'],\n",
    "                         dem_long['demo_prtnr_ed_v2_2yr_l']],\n",
    "                        na_values=NA_VALUES)\n",
    "highest_ed = prnt_ed.fillna(-1).combine(prtnr_ed.fillna(-1), max)\n",
    "\n",
    "def map_ed_5level(x):\n",
    "    if x in np.arange(0,13):\n",
    "        return '< HS Diploma'\n",
    "    elif x in [13,14]:\n",
    "        return 'HS Diploma/GED'\n",
    "    elif x in [15,16,17,22,23]:\n",
    "        return 'Some College'\n",
    "    elif x == 18:\n",
    "        return 'Bachelor'\n",
    "    elif x in [19,20,21]:\n",
    "        return 'Post Graduate Degree'\n",
    "    else:\n",
    "        return np.nan\n",
    "\n",
    "covariates['highest_ed.5level'] = highest_ed.apply(map_ed_5level).astype('category')"
   ]
  },
  {
   "cell_type": "code",
   "execution_count": 10,
   "id": "strong-attachment",
   "metadata": {},
   "outputs": [],
   "source": [
    "marital = combine_dems([dem_base['demo_prnt_marital_v2'], dem_long['demo_prnt_marital_v2_l']],\n",
    "                       na_values=NA_VALUES)\n",
    "\n",
    "def map_marital(x):\n",
    "    if x == 1:\n",
    "        return 'Yes'\n",
    "    elif x in np.arange(2,7):\n",
    "        return 'No'\n",
    "    else:\n",
    "        return np.nan\n",
    "\n",
    "covariates['married'] = marital.apply(map_marital).astype('category')"
   ]
  },
  {
   "cell_type": "code",
   "execution_count": 11,
   "id": "normal-chocolate",
   "metadata": {},
   "outputs": [],
   "source": [
    "white = dem_base['demo_race_a_p___10']\n",
    "black = dem_base['demo_race_a_p___11']\n",
    "aian = dem_base['demo_race_a_p___12'] | dem_base['demo_race_a_p___13']\n",
    "nhpi = reduce(lambda l,r: l | r, [dem_base['demo_race_a_p___' + str(n)] for n in range(14,18)])\n",
    "asian = reduce(lambda l,r: l | r, [dem_base['demo_race_a_p___' + str(n)] for n in range(18,25)])\n",
    "other = dem_base['demo_race_a_p___25']\n",
    "mixed = white + black + asian + aian + nhpi + other > 1\n",
    "\n",
    "race = pd.Series(np.nan, index=mixed.index, name='race.6level')\n",
    "race[white == 1] = 'White'\n",
    "race[black == 1] = 'Black'\n",
    "race[asian == 1] = 'Asian'\n",
    "race[(aian == 1) | (nhpi == 1)] = 'AIAN/NHPI'\n",
    "race[other == 1] = 'Other'\n",
    "race[mixed] = 'Mixed'\n",
    "\n",
    "covariates = covariates.join(race.droplevel('eventname').astype('category'))"
   ]
  },
  {
   "cell_type": "code",
   "execution_count": 12,
   "id": "violent-trademark",
   "metadata": {},
   "outputs": [],
   "source": [
    "covariates = covariates.join(dem_base['demo_ethn_v2'].map({1:'Yes', 2:'No'}).rename('hisp')\n",
    "                             .droplevel('eventname').astype('category'))"
   ]
  },
  {
   "cell_type": "code",
   "execution_count": 13,
   "id": "excess-optimization",
   "metadata": {},
   "outputs": [],
   "source": [
    "covariates = covariates.join(dem_acs.xs('baseline_year_1_arm_1', level='eventname')['rel_family_id']\n",
    "                             .astype(int))"
   ]
  }
 ],
 "metadata": {
  "kernelspec": {
   "display_name": "Python [conda env:brainhack]",
   "language": "python",
   "name": "conda-env-brainhack-py"
  },
  "language_info": {
   "codemirror_mode": {
    "name": "ipython",
    "version": 3
   },
   "file_extension": ".py",
   "mimetype": "text/x-python",
   "name": "python",
   "nbconvert_exporter": "python",
   "pygments_lexer": "ipython3",
   "version": "3.8.8"
  }
 },
 "nbformat": 4,
 "nbformat_minor": 5
}
